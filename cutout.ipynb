{
 "cells": [
  {
   "cell_type": "code",
   "execution_count": 7,
   "metadata": {},
   "outputs": [],
   "source": [
    "import numpy as np\n",
    "import matplotlib.pyplot as plt\n",
    "from astropy.coordinates import SkyCoord\n",
    "from astropy.io import fits\n",
    "from spectral_cube import SpectralCube\n",
    "from pathlib import Path\n",
    "import os\n",
    "\n",
    "from arrakis.cutout import CutoutArgs, cutout_image, cutout_weight\n",
    "from arrakis.linmos import genparset, linmos, ImagePaths, find_images"
   ]
  },
  {
   "cell_type": "code",
   "execution_count": 8,
   "metadata": {},
   "outputs": [
    {
     "name": "stdout",
     "output_type": "stream",
     "text": [
      "/apps/singularity/3.8.7/bin/singularity\n"
     ]
    }
   ],
   "source": [
    "!which singularity"
   ]
  },
  {
   "cell_type": "code",
   "execution_count": 9,
   "metadata": {},
   "outputs": [],
   "source": [
    "threec_286 = SkyCoord.from_name('3C 286')"
   ]
  },
  {
   "cell_type": "code",
   "execution_count": 10,
   "metadata": {},
   "outputs": [],
   "source": [
    "cutout_args = CutoutArgs(\n",
    "    ra_high=threec_286.ra.deg + 0.0,\n",
    "    ra_low=threec_286.ra.deg - 0.0,\n",
    "    dec_high=threec_286.dec.deg + 0.0,\n",
    "    dec_low=threec_286.dec.deg - 0.0,\n",
    "    outdir=\"/scratch3/projects/spiceracs/askap_pol_testing/cubes/cutouts/3C286\"\n",
    ")"
   ]
  },
  {
   "cell_type": "code",
   "execution_count": 22,
   "metadata": {},
   "outputs": [
    {
     "data": {
      "text/plain": [
       "{'$set': {'beams.3C286.u_beam35_image_file': '3C286/3C286.cutout.SB51997.3C286_45deg.beam35.u.cube.fixed.fits'}}"
      ]
     },
     "execution_count": 22,
     "metadata": {},
     "output_type": "execute_result"
    }
   ],
   "source": [
    "update._doc"
   ]
  },
  {
   "cell_type": "code",
   "execution_count": 35,
   "metadata": {},
   "outputs": [
    {
     "name": "stderr",
     "output_type": "stream",
     "text": [
      "\u001b[32;20mSPICE-INFO\u001b[0m 2024-02-15 13:59:17.431 cutout - cutout_image: Written to /scratch3/projects/spiceracs/askap_pol_testing/cubes/cutouts/3C286/3C286.cutout.SB51997.3C286_45deg.beam0.i.cube.fixed.fits\n"
     ]
    },
    {
     "data": {
      "text/html": [
       "<pre style=\"white-space:pre;overflow-x:auto;line-height:normal;font-family:Menlo,'DejaVu Sans Mono',consolas,'Courier New',monospace\">13:59:17.431 | <span style=\"color: #008080; text-decoration-color: #008080\">INFO</span>    | arrakis - Written to /scratch3/projects/spiceracs/askap_pol_testing/cubes/cutouts/3C286/3C286.cutout.SB51997.3C286_45deg.beam0.i.cube.fixed.fits\n",
       "</pre>\n"
      ],
      "text/plain": [
       "13:59:17.431 | \u001b[36mINFO\u001b[0m    | arrakis - Written to /scratch3/projects/spiceracs/askap_pol_testing/cubes/cutouts/3C286/3C286.cutout.SB51997.3C286_45deg.beam0.i.cube.fixed.fits\n"
      ]
     },
     "metadata": {},
     "output_type": "display_data"
    },
    {
     "name": "stderr",
     "output_type": "stream",
     "text": [
      "\u001b[32;20mSPICE-INFO\u001b[0m 2024-02-15 13:59:17.729 cutout - cutout_image: Written to /scratch3/projects/spiceracs/askap_pol_testing/cubes/cutouts/3C286/3C286.cutout.SB51997.3C286_45deg.beam1.i.cube.fixed.fits\n"
     ]
    },
    {
     "data": {
      "text/html": [
       "<pre style=\"white-space:pre;overflow-x:auto;line-height:normal;font-family:Menlo,'DejaVu Sans Mono',consolas,'Courier New',monospace\">13:59:17.729 | <span style=\"color: #008080; text-decoration-color: #008080\">INFO</span>    | arrakis - Written to /scratch3/projects/spiceracs/askap_pol_testing/cubes/cutouts/3C286/3C286.cutout.SB51997.3C286_45deg.beam1.i.cube.fixed.fits\n",
       "</pre>\n"
      ],
      "text/plain": [
       "13:59:17.729 | \u001b[36mINFO\u001b[0m    | arrakis - Written to /scratch3/projects/spiceracs/askap_pol_testing/cubes/cutouts/3C286/3C286.cutout.SB51997.3C286_45deg.beam1.i.cube.fixed.fits\n"
      ]
     },
     "metadata": {},
     "output_type": "display_data"
    },
    {
     "name": "stderr",
     "output_type": "stream",
     "text": [
      "\u001b[32;20mSPICE-INFO\u001b[0m 2024-02-15 13:59:17.785 cutout - cutout_image: Written to /scratch3/projects/spiceracs/askap_pol_testing/cubes/cutouts/3C286/3C286.cutout.SB51997.3C286_45deg.beam2.i.cube.fixed.fits\n"
     ]
    },
    {
     "data": {
      "text/html": [
       "<pre style=\"white-space:pre;overflow-x:auto;line-height:normal;font-family:Menlo,'DejaVu Sans Mono',consolas,'Courier New',monospace\">13:59:17.785 | <span style=\"color: #008080; text-decoration-color: #008080\">INFO</span>    | arrakis - Written to /scratch3/projects/spiceracs/askap_pol_testing/cubes/cutouts/3C286/3C286.cutout.SB51997.3C286_45deg.beam2.i.cube.fixed.fits\n",
       "</pre>\n"
      ],
      "text/plain": [
       "13:59:17.785 | \u001b[36mINFO\u001b[0m    | arrakis - Written to /scratch3/projects/spiceracs/askap_pol_testing/cubes/cutouts/3C286/3C286.cutout.SB51997.3C286_45deg.beam2.i.cube.fixed.fits\n"
      ]
     },
     "metadata": {},
     "output_type": "display_data"
    },
    {
     "name": "stderr",
     "output_type": "stream",
     "text": [
      "\u001b[32;20mSPICE-INFO\u001b[0m 2024-02-15 13:59:17.837 cutout - cutout_image: Written to /scratch3/projects/spiceracs/askap_pol_testing/cubes/cutouts/3C286/3C286.cutout.SB51997.3C286_45deg.beam3.i.cube.fixed.fits\n"
     ]
    },
    {
     "data": {
      "text/html": [
       "<pre style=\"white-space:pre;overflow-x:auto;line-height:normal;font-family:Menlo,'DejaVu Sans Mono',consolas,'Courier New',monospace\">13:59:17.837 | <span style=\"color: #008080; text-decoration-color: #008080\">INFO</span>    | arrakis - Written to /scratch3/projects/spiceracs/askap_pol_testing/cubes/cutouts/3C286/3C286.cutout.SB51997.3C286_45deg.beam3.i.cube.fixed.fits\n",
       "</pre>\n"
      ],
      "text/plain": [
       "13:59:17.837 | \u001b[36mINFO\u001b[0m    | arrakis - Written to /scratch3/projects/spiceracs/askap_pol_testing/cubes/cutouts/3C286/3C286.cutout.SB51997.3C286_45deg.beam3.i.cube.fixed.fits\n"
      ]
     },
     "metadata": {},
     "output_type": "display_data"
    },
    {
     "name": "stderr",
     "output_type": "stream",
     "text": [
      "\u001b[32;20mSPICE-INFO\u001b[0m 2024-02-15 13:59:17.891 cutout - cutout_image: Written to /scratch3/projects/spiceracs/askap_pol_testing/cubes/cutouts/3C286/3C286.cutout.SB51997.3C286_45deg.beam4.i.cube.fixed.fits\n"
     ]
    },
    {
     "data": {
      "text/html": [
       "<pre style=\"white-space:pre;overflow-x:auto;line-height:normal;font-family:Menlo,'DejaVu Sans Mono',consolas,'Courier New',monospace\">13:59:17.891 | <span style=\"color: #008080; text-decoration-color: #008080\">INFO</span>    | arrakis - Written to /scratch3/projects/spiceracs/askap_pol_testing/cubes/cutouts/3C286/3C286.cutout.SB51997.3C286_45deg.beam4.i.cube.fixed.fits\n",
       "</pre>\n"
      ],
      "text/plain": [
       "13:59:17.891 | \u001b[36mINFO\u001b[0m    | arrakis - Written to /scratch3/projects/spiceracs/askap_pol_testing/cubes/cutouts/3C286/3C286.cutout.SB51997.3C286_45deg.beam4.i.cube.fixed.fits\n"
      ]
     },
     "metadata": {},
     "output_type": "display_data"
    },
    {
     "name": "stderr",
     "output_type": "stream",
     "text": [
      "\u001b[32;20mSPICE-INFO\u001b[0m 2024-02-15 13:59:17.944 cutout - cutout_image: Written to /scratch3/projects/spiceracs/askap_pol_testing/cubes/cutouts/3C286/3C286.cutout.SB51997.3C286_45deg.beam5.i.cube.fixed.fits\n"
     ]
    },
    {
     "data": {
      "text/html": [
       "<pre style=\"white-space:pre;overflow-x:auto;line-height:normal;font-family:Menlo,'DejaVu Sans Mono',consolas,'Courier New',monospace\">13:59:17.944 | <span style=\"color: #008080; text-decoration-color: #008080\">INFO</span>    | arrakis - Written to /scratch3/projects/spiceracs/askap_pol_testing/cubes/cutouts/3C286/3C286.cutout.SB51997.3C286_45deg.beam5.i.cube.fixed.fits\n",
       "</pre>\n"
      ],
      "text/plain": [
       "13:59:17.944 | \u001b[36mINFO\u001b[0m    | arrakis - Written to /scratch3/projects/spiceracs/askap_pol_testing/cubes/cutouts/3C286/3C286.cutout.SB51997.3C286_45deg.beam5.i.cube.fixed.fits\n"
      ]
     },
     "metadata": {},
     "output_type": "display_data"
    },
    {
     "name": "stderr",
     "output_type": "stream",
     "text": [
      "\u001b[32;20mSPICE-INFO\u001b[0m 2024-02-15 13:59:18.221 cutout - cutout_image: Written to /scratch3/projects/spiceracs/askap_pol_testing/cubes/cutouts/3C286/3C286.cutout.SB51997.3C286_45deg.beam6.i.cube.fixed.fits\n"
     ]
    },
    {
     "data": {
      "text/html": [
       "<pre style=\"white-space:pre;overflow-x:auto;line-height:normal;font-family:Menlo,'DejaVu Sans Mono',consolas,'Courier New',monospace\">13:59:18.221 | <span style=\"color: #008080; text-decoration-color: #008080\">INFO</span>    | arrakis - Written to /scratch3/projects/spiceracs/askap_pol_testing/cubes/cutouts/3C286/3C286.cutout.SB51997.3C286_45deg.beam6.i.cube.fixed.fits\n",
       "</pre>\n"
      ],
      "text/plain": [
       "13:59:18.221 | \u001b[36mINFO\u001b[0m    | arrakis - Written to /scratch3/projects/spiceracs/askap_pol_testing/cubes/cutouts/3C286/3C286.cutout.SB51997.3C286_45deg.beam6.i.cube.fixed.fits\n"
      ]
     },
     "metadata": {},
     "output_type": "display_data"
    },
    {
     "name": "stderr",
     "output_type": "stream",
     "text": [
      "\u001b[32;20mSPICE-INFO\u001b[0m 2024-02-15 13:59:18.277 cutout - cutout_image: Written to /scratch3/projects/spiceracs/askap_pol_testing/cubes/cutouts/3C286/3C286.cutout.SB51997.3C286_45deg.beam7.i.cube.fixed.fits\n"
     ]
    },
    {
     "data": {
      "text/html": [
       "<pre style=\"white-space:pre;overflow-x:auto;line-height:normal;font-family:Menlo,'DejaVu Sans Mono',consolas,'Courier New',monospace\">13:59:18.277 | <span style=\"color: #008080; text-decoration-color: #008080\">INFO</span>    | arrakis - Written to /scratch3/projects/spiceracs/askap_pol_testing/cubes/cutouts/3C286/3C286.cutout.SB51997.3C286_45deg.beam7.i.cube.fixed.fits\n",
       "</pre>\n"
      ],
      "text/plain": [
       "13:59:18.277 | \u001b[36mINFO\u001b[0m    | arrakis - Written to /scratch3/projects/spiceracs/askap_pol_testing/cubes/cutouts/3C286/3C286.cutout.SB51997.3C286_45deg.beam7.i.cube.fixed.fits\n"
      ]
     },
     "metadata": {},
     "output_type": "display_data"
    },
    {
     "name": "stderr",
     "output_type": "stream",
     "text": [
      "\u001b[32;20mSPICE-INFO\u001b[0m 2024-02-15 13:59:18.331 cutout - cutout_image: Written to /scratch3/projects/spiceracs/askap_pol_testing/cubes/cutouts/3C286/3C286.cutout.SB51997.3C286_45deg.beam8.i.cube.fixed.fits\n"
     ]
    },
    {
     "data": {
      "text/html": [
       "<pre style=\"white-space:pre;overflow-x:auto;line-height:normal;font-family:Menlo,'DejaVu Sans Mono',consolas,'Courier New',monospace\">13:59:18.331 | <span style=\"color: #008080; text-decoration-color: #008080\">INFO</span>    | arrakis - Written to /scratch3/projects/spiceracs/askap_pol_testing/cubes/cutouts/3C286/3C286.cutout.SB51997.3C286_45deg.beam8.i.cube.fixed.fits\n",
       "</pre>\n"
      ],
      "text/plain": [
       "13:59:18.331 | \u001b[36mINFO\u001b[0m    | arrakis - Written to /scratch3/projects/spiceracs/askap_pol_testing/cubes/cutouts/3C286/3C286.cutout.SB51997.3C286_45deg.beam8.i.cube.fixed.fits\n"
      ]
     },
     "metadata": {},
     "output_type": "display_data"
    },
    {
     "name": "stderr",
     "output_type": "stream",
     "text": [
      "\u001b[32;20mSPICE-INFO\u001b[0m 2024-02-15 13:59:18.385 cutout - cutout_image: Written to /scratch3/projects/spiceracs/askap_pol_testing/cubes/cutouts/3C286/3C286.cutout.SB51997.3C286_45deg.beam9.i.cube.fixed.fits\n"
     ]
    },
    {
     "data": {
      "text/html": [
       "<pre style=\"white-space:pre;overflow-x:auto;line-height:normal;font-family:Menlo,'DejaVu Sans Mono',consolas,'Courier New',monospace\">13:59:18.385 | <span style=\"color: #008080; text-decoration-color: #008080\">INFO</span>    | arrakis - Written to /scratch3/projects/spiceracs/askap_pol_testing/cubes/cutouts/3C286/3C286.cutout.SB51997.3C286_45deg.beam9.i.cube.fixed.fits\n",
       "</pre>\n"
      ],
      "text/plain": [
       "13:59:18.385 | \u001b[36mINFO\u001b[0m    | arrakis - Written to /scratch3/projects/spiceracs/askap_pol_testing/cubes/cutouts/3C286/3C286.cutout.SB51997.3C286_45deg.beam9.i.cube.fixed.fits\n"
      ]
     },
     "metadata": {},
     "output_type": "display_data"
    },
    {
     "name": "stderr",
     "output_type": "stream",
     "text": [
      "\u001b[32;20mSPICE-INFO\u001b[0m 2024-02-15 13:59:18.440 cutout - cutout_image: Written to /scratch3/projects/spiceracs/askap_pol_testing/cubes/cutouts/3C286/3C286.cutout.SB51997.3C286_45deg.beam10.i.cube.fixed.fits\n"
     ]
    },
    {
     "data": {
      "text/html": [
       "<pre style=\"white-space:pre;overflow-x:auto;line-height:normal;font-family:Menlo,'DejaVu Sans Mono',consolas,'Courier New',monospace\">13:59:18.440 | <span style=\"color: #008080; text-decoration-color: #008080\">INFO</span>    | arrakis - Written to /scratch3/projects/spiceracs/askap_pol_testing/cubes/cutouts/3C286/3C286.cutout.SB51997.3C286_45deg.beam10.i.cube.fixed.fits\n",
       "</pre>\n"
      ],
      "text/plain": [
       "13:59:18.440 | \u001b[36mINFO\u001b[0m    | arrakis - Written to /scratch3/projects/spiceracs/askap_pol_testing/cubes/cutouts/3C286/3C286.cutout.SB51997.3C286_45deg.beam10.i.cube.fixed.fits\n"
      ]
     },
     "metadata": {},
     "output_type": "display_data"
    },
    {
     "name": "stderr",
     "output_type": "stream",
     "text": [
      "\u001b[32;20mSPICE-INFO\u001b[0m 2024-02-15 13:59:18.493 cutout - cutout_image: Written to /scratch3/projects/spiceracs/askap_pol_testing/cubes/cutouts/3C286/3C286.cutout.SB51997.3C286_45deg.beam11.i.cube.fixed.fits\n"
     ]
    },
    {
     "data": {
      "text/html": [
       "<pre style=\"white-space:pre;overflow-x:auto;line-height:normal;font-family:Menlo,'DejaVu Sans Mono',consolas,'Courier New',monospace\">13:59:18.493 | <span style=\"color: #008080; text-decoration-color: #008080\">INFO</span>    | arrakis - Written to /scratch3/projects/spiceracs/askap_pol_testing/cubes/cutouts/3C286/3C286.cutout.SB51997.3C286_45deg.beam11.i.cube.fixed.fits\n",
       "</pre>\n"
      ],
      "text/plain": [
       "13:59:18.493 | \u001b[36mINFO\u001b[0m    | arrakis - Written to /scratch3/projects/spiceracs/askap_pol_testing/cubes/cutouts/3C286/3C286.cutout.SB51997.3C286_45deg.beam11.i.cube.fixed.fits\n"
      ]
     },
     "metadata": {},
     "output_type": "display_data"
    },
    {
     "name": "stderr",
     "output_type": "stream",
     "text": [
      "\u001b[32;20mSPICE-INFO\u001b[0m 2024-02-15 13:59:18.765 cutout - cutout_image: Written to /scratch3/projects/spiceracs/askap_pol_testing/cubes/cutouts/3C286/3C286.cutout.SB51997.3C286_45deg.beam12.i.cube.fixed.fits\n"
     ]
    },
    {
     "data": {
      "text/html": [
       "<pre style=\"white-space:pre;overflow-x:auto;line-height:normal;font-family:Menlo,'DejaVu Sans Mono',consolas,'Courier New',monospace\">13:59:18.765 | <span style=\"color: #008080; text-decoration-color: #008080\">INFO</span>    | arrakis - Written to /scratch3/projects/spiceracs/askap_pol_testing/cubes/cutouts/3C286/3C286.cutout.SB51997.3C286_45deg.beam12.i.cube.fixed.fits\n",
       "</pre>\n"
      ],
      "text/plain": [
       "13:59:18.765 | \u001b[36mINFO\u001b[0m    | arrakis - Written to /scratch3/projects/spiceracs/askap_pol_testing/cubes/cutouts/3C286/3C286.cutout.SB51997.3C286_45deg.beam12.i.cube.fixed.fits\n"
      ]
     },
     "metadata": {},
     "output_type": "display_data"
    },
    {
     "name": "stderr",
     "output_type": "stream",
     "text": [
      "\u001b[32;20mSPICE-INFO\u001b[0m 2024-02-15 13:59:19.157 cutout - cutout_image: Written to /scratch3/projects/spiceracs/askap_pol_testing/cubes/cutouts/3C286/3C286.cutout.SB51997.3C286_45deg.beam13.i.cube.fixed.fits\n"
     ]
    },
    {
     "data": {
      "text/html": [
       "<pre style=\"white-space:pre;overflow-x:auto;line-height:normal;font-family:Menlo,'DejaVu Sans Mono',consolas,'Courier New',monospace\">13:59:19.157 | <span style=\"color: #008080; text-decoration-color: #008080\">INFO</span>    | arrakis - Written to /scratch3/projects/spiceracs/askap_pol_testing/cubes/cutouts/3C286/3C286.cutout.SB51997.3C286_45deg.beam13.i.cube.fixed.fits\n",
       "</pre>\n"
      ],
      "text/plain": [
       "13:59:19.157 | \u001b[36mINFO\u001b[0m    | arrakis - Written to /scratch3/projects/spiceracs/askap_pol_testing/cubes/cutouts/3C286/3C286.cutout.SB51997.3C286_45deg.beam13.i.cube.fixed.fits\n"
      ]
     },
     "metadata": {},
     "output_type": "display_data"
    },
    {
     "name": "stderr",
     "output_type": "stream",
     "text": [
      "\u001b[32;20mSPICE-INFO\u001b[0m 2024-02-15 13:59:19.213 cutout - cutout_image: Written to /scratch3/projects/spiceracs/askap_pol_testing/cubes/cutouts/3C286/3C286.cutout.SB51997.3C286_45deg.beam14.i.cube.fixed.fits\n"
     ]
    },
    {
     "data": {
      "text/html": [
       "<pre style=\"white-space:pre;overflow-x:auto;line-height:normal;font-family:Menlo,'DejaVu Sans Mono',consolas,'Courier New',monospace\">13:59:19.213 | <span style=\"color: #008080; text-decoration-color: #008080\">INFO</span>    | arrakis - Written to /scratch3/projects/spiceracs/askap_pol_testing/cubes/cutouts/3C286/3C286.cutout.SB51997.3C286_45deg.beam14.i.cube.fixed.fits\n",
       "</pre>\n"
      ],
      "text/plain": [
       "13:59:19.213 | \u001b[36mINFO\u001b[0m    | arrakis - Written to /scratch3/projects/spiceracs/askap_pol_testing/cubes/cutouts/3C286/3C286.cutout.SB51997.3C286_45deg.beam14.i.cube.fixed.fits\n"
      ]
     },
     "metadata": {},
     "output_type": "display_data"
    },
    {
     "name": "stderr",
     "output_type": "stream",
     "text": [
      "\u001b[32;20mSPICE-INFO\u001b[0m 2024-02-15 13:59:19.267 cutout - cutout_image: Written to /scratch3/projects/spiceracs/askap_pol_testing/cubes/cutouts/3C286/3C286.cutout.SB51997.3C286_45deg.beam15.i.cube.fixed.fits\n"
     ]
    },
    {
     "data": {
      "text/html": [
       "<pre style=\"white-space:pre;overflow-x:auto;line-height:normal;font-family:Menlo,'DejaVu Sans Mono',consolas,'Courier New',monospace\">13:59:19.267 | <span style=\"color: #008080; text-decoration-color: #008080\">INFO</span>    | arrakis - Written to /scratch3/projects/spiceracs/askap_pol_testing/cubes/cutouts/3C286/3C286.cutout.SB51997.3C286_45deg.beam15.i.cube.fixed.fits\n",
       "</pre>\n"
      ],
      "text/plain": [
       "13:59:19.267 | \u001b[36mINFO\u001b[0m    | arrakis - Written to /scratch3/projects/spiceracs/askap_pol_testing/cubes/cutouts/3C286/3C286.cutout.SB51997.3C286_45deg.beam15.i.cube.fixed.fits\n"
      ]
     },
     "metadata": {},
     "output_type": "display_data"
    },
    {
     "name": "stderr",
     "output_type": "stream",
     "text": [
      "\u001b[32;20mSPICE-INFO\u001b[0m 2024-02-15 13:59:19.320 cutout - cutout_image: Written to /scratch3/projects/spiceracs/askap_pol_testing/cubes/cutouts/3C286/3C286.cutout.SB51997.3C286_45deg.beam16.i.cube.fixed.fits\n"
     ]
    },
    {
     "data": {
      "text/html": [
       "<pre style=\"white-space:pre;overflow-x:auto;line-height:normal;font-family:Menlo,'DejaVu Sans Mono',consolas,'Courier New',monospace\">13:59:19.320 | <span style=\"color: #008080; text-decoration-color: #008080\">INFO</span>    | arrakis - Written to /scratch3/projects/spiceracs/askap_pol_testing/cubes/cutouts/3C286/3C286.cutout.SB51997.3C286_45deg.beam16.i.cube.fixed.fits\n",
       "</pre>\n"
      ],
      "text/plain": [
       "13:59:19.320 | \u001b[36mINFO\u001b[0m    | arrakis - Written to /scratch3/projects/spiceracs/askap_pol_testing/cubes/cutouts/3C286/3C286.cutout.SB51997.3C286_45deg.beam16.i.cube.fixed.fits\n"
      ]
     },
     "metadata": {},
     "output_type": "display_data"
    },
    {
     "name": "stderr",
     "output_type": "stream",
     "text": [
      "\u001b[32;20mSPICE-INFO\u001b[0m 2024-02-15 13:59:19.374 cutout - cutout_image: Written to /scratch3/projects/spiceracs/askap_pol_testing/cubes/cutouts/3C286/3C286.cutout.SB51997.3C286_45deg.beam17.i.cube.fixed.fits\n"
     ]
    },
    {
     "data": {
      "text/html": [
       "<pre style=\"white-space:pre;overflow-x:auto;line-height:normal;font-family:Menlo,'DejaVu Sans Mono',consolas,'Courier New',monospace\">13:59:19.374 | <span style=\"color: #008080; text-decoration-color: #008080\">INFO</span>    | arrakis - Written to /scratch3/projects/spiceracs/askap_pol_testing/cubes/cutouts/3C286/3C286.cutout.SB51997.3C286_45deg.beam17.i.cube.fixed.fits\n",
       "</pre>\n"
      ],
      "text/plain": [
       "13:59:19.374 | \u001b[36mINFO\u001b[0m    | arrakis - Written to /scratch3/projects/spiceracs/askap_pol_testing/cubes/cutouts/3C286/3C286.cutout.SB51997.3C286_45deg.beam17.i.cube.fixed.fits\n"
      ]
     },
     "metadata": {},
     "output_type": "display_data"
    },
    {
     "name": "stderr",
     "output_type": "stream",
     "text": [
      "\u001b[32;20mSPICE-INFO\u001b[0m 2024-02-15 13:59:19.663 cutout - cutout_image: Written to /scratch3/projects/spiceracs/askap_pol_testing/cubes/cutouts/3C286/3C286.cutout.SB51997.3C286_45deg.beam18.i.cube.fixed.fits\n"
     ]
    },
    {
     "data": {
      "text/html": [
       "<pre style=\"white-space:pre;overflow-x:auto;line-height:normal;font-family:Menlo,'DejaVu Sans Mono',consolas,'Courier New',monospace\">13:59:19.663 | <span style=\"color: #008080; text-decoration-color: #008080\">INFO</span>    | arrakis - Written to /scratch3/projects/spiceracs/askap_pol_testing/cubes/cutouts/3C286/3C286.cutout.SB51997.3C286_45deg.beam18.i.cube.fixed.fits\n",
       "</pre>\n"
      ],
      "text/plain": [
       "13:59:19.663 | \u001b[36mINFO\u001b[0m    | arrakis - Written to /scratch3/projects/spiceracs/askap_pol_testing/cubes/cutouts/3C286/3C286.cutout.SB51997.3C286_45deg.beam18.i.cube.fixed.fits\n"
      ]
     },
     "metadata": {},
     "output_type": "display_data"
    },
    {
     "name": "stderr",
     "output_type": "stream",
     "text": [
      "\u001b[32;20mSPICE-INFO\u001b[0m 2024-02-15 13:59:19.719 cutout - cutout_image: Written to /scratch3/projects/spiceracs/askap_pol_testing/cubes/cutouts/3C286/3C286.cutout.SB51997.3C286_45deg.beam19.i.cube.fixed.fits\n"
     ]
    },
    {
     "data": {
      "text/html": [
       "<pre style=\"white-space:pre;overflow-x:auto;line-height:normal;font-family:Menlo,'DejaVu Sans Mono',consolas,'Courier New',monospace\">13:59:19.719 | <span style=\"color: #008080; text-decoration-color: #008080\">INFO</span>    | arrakis - Written to /scratch3/projects/spiceracs/askap_pol_testing/cubes/cutouts/3C286/3C286.cutout.SB51997.3C286_45deg.beam19.i.cube.fixed.fits\n",
       "</pre>\n"
      ],
      "text/plain": [
       "13:59:19.719 | \u001b[36mINFO\u001b[0m    | arrakis - Written to /scratch3/projects/spiceracs/askap_pol_testing/cubes/cutouts/3C286/3C286.cutout.SB51997.3C286_45deg.beam19.i.cube.fixed.fits\n"
      ]
     },
     "metadata": {},
     "output_type": "display_data"
    },
    {
     "name": "stderr",
     "output_type": "stream",
     "text": [
      "\u001b[32;20mSPICE-INFO\u001b[0m 2024-02-15 13:59:19.773 cutout - cutout_image: Written to /scratch3/projects/spiceracs/askap_pol_testing/cubes/cutouts/3C286/3C286.cutout.SB51997.3C286_45deg.beam20.i.cube.fixed.fits\n"
     ]
    },
    {
     "data": {
      "text/html": [
       "<pre style=\"white-space:pre;overflow-x:auto;line-height:normal;font-family:Menlo,'DejaVu Sans Mono',consolas,'Courier New',monospace\">13:59:19.773 | <span style=\"color: #008080; text-decoration-color: #008080\">INFO</span>    | arrakis - Written to /scratch3/projects/spiceracs/askap_pol_testing/cubes/cutouts/3C286/3C286.cutout.SB51997.3C286_45deg.beam20.i.cube.fixed.fits\n",
       "</pre>\n"
      ],
      "text/plain": [
       "13:59:19.773 | \u001b[36mINFO\u001b[0m    | arrakis - Written to /scratch3/projects/spiceracs/askap_pol_testing/cubes/cutouts/3C286/3C286.cutout.SB51997.3C286_45deg.beam20.i.cube.fixed.fits\n"
      ]
     },
     "metadata": {},
     "output_type": "display_data"
    },
    {
     "name": "stderr",
     "output_type": "stream",
     "text": [
      "\u001b[32;20mSPICE-INFO\u001b[0m 2024-02-15 13:59:19.825 cutout - cutout_image: Written to /scratch3/projects/spiceracs/askap_pol_testing/cubes/cutouts/3C286/3C286.cutout.SB51997.3C286_45deg.beam21.i.cube.fixed.fits\n"
     ]
    },
    {
     "data": {
      "text/html": [
       "<pre style=\"white-space:pre;overflow-x:auto;line-height:normal;font-family:Menlo,'DejaVu Sans Mono',consolas,'Courier New',monospace\">13:59:19.825 | <span style=\"color: #008080; text-decoration-color: #008080\">INFO</span>    | arrakis - Written to /scratch3/projects/spiceracs/askap_pol_testing/cubes/cutouts/3C286/3C286.cutout.SB51997.3C286_45deg.beam21.i.cube.fixed.fits\n",
       "</pre>\n"
      ],
      "text/plain": [
       "13:59:19.825 | \u001b[36mINFO\u001b[0m    | arrakis - Written to /scratch3/projects/spiceracs/askap_pol_testing/cubes/cutouts/3C286/3C286.cutout.SB51997.3C286_45deg.beam21.i.cube.fixed.fits\n"
      ]
     },
     "metadata": {},
     "output_type": "display_data"
    },
    {
     "name": "stderr",
     "output_type": "stream",
     "text": [
      "\u001b[32;20mSPICE-INFO\u001b[0m 2024-02-15 13:59:19.877 cutout - cutout_image: Written to /scratch3/projects/spiceracs/askap_pol_testing/cubes/cutouts/3C286/3C286.cutout.SB51997.3C286_45deg.beam22.i.cube.fixed.fits\n"
     ]
    },
    {
     "data": {
      "text/html": [
       "<pre style=\"white-space:pre;overflow-x:auto;line-height:normal;font-family:Menlo,'DejaVu Sans Mono',consolas,'Courier New',monospace\">13:59:19.877 | <span style=\"color: #008080; text-decoration-color: #008080\">INFO</span>    | arrakis - Written to /scratch3/projects/spiceracs/askap_pol_testing/cubes/cutouts/3C286/3C286.cutout.SB51997.3C286_45deg.beam22.i.cube.fixed.fits\n",
       "</pre>\n"
      ],
      "text/plain": [
       "13:59:19.877 | \u001b[36mINFO\u001b[0m    | arrakis - Written to /scratch3/projects/spiceracs/askap_pol_testing/cubes/cutouts/3C286/3C286.cutout.SB51997.3C286_45deg.beam22.i.cube.fixed.fits\n"
      ]
     },
     "metadata": {},
     "output_type": "display_data"
    },
    {
     "name": "stderr",
     "output_type": "stream",
     "text": [
      "\u001b[32;20mSPICE-INFO\u001b[0m 2024-02-15 13:59:19.930 cutout - cutout_image: Written to /scratch3/projects/spiceracs/askap_pol_testing/cubes/cutouts/3C286/3C286.cutout.SB51997.3C286_45deg.beam23.i.cube.fixed.fits\n"
     ]
    },
    {
     "data": {
      "text/html": [
       "<pre style=\"white-space:pre;overflow-x:auto;line-height:normal;font-family:Menlo,'DejaVu Sans Mono',consolas,'Courier New',monospace\">13:59:19.930 | <span style=\"color: #008080; text-decoration-color: #008080\">INFO</span>    | arrakis - Written to /scratch3/projects/spiceracs/askap_pol_testing/cubes/cutouts/3C286/3C286.cutout.SB51997.3C286_45deg.beam23.i.cube.fixed.fits\n",
       "</pre>\n"
      ],
      "text/plain": [
       "13:59:19.930 | \u001b[36mINFO\u001b[0m    | arrakis - Written to /scratch3/projects/spiceracs/askap_pol_testing/cubes/cutouts/3C286/3C286.cutout.SB51997.3C286_45deg.beam23.i.cube.fixed.fits\n"
      ]
     },
     "metadata": {},
     "output_type": "display_data"
    },
    {
     "name": "stderr",
     "output_type": "stream",
     "text": [
      "\u001b[32;20mSPICE-INFO\u001b[0m 2024-02-15 13:59:20.439 cutout - cutout_image: Written to /scratch3/projects/spiceracs/askap_pol_testing/cubes/cutouts/3C286/3C286.cutout.SB51997.3C286_45deg.beam24.i.cube.fixed.fits\n"
     ]
    },
    {
     "data": {
      "text/html": [
       "<pre style=\"white-space:pre;overflow-x:auto;line-height:normal;font-family:Menlo,'DejaVu Sans Mono',consolas,'Courier New',monospace\">13:59:20.439 | <span style=\"color: #008080; text-decoration-color: #008080\">INFO</span>    | arrakis - Written to /scratch3/projects/spiceracs/askap_pol_testing/cubes/cutouts/3C286/3C286.cutout.SB51997.3C286_45deg.beam24.i.cube.fixed.fits\n",
       "</pre>\n"
      ],
      "text/plain": [
       "13:59:20.439 | \u001b[36mINFO\u001b[0m    | arrakis - Written to /scratch3/projects/spiceracs/askap_pol_testing/cubes/cutouts/3C286/3C286.cutout.SB51997.3C286_45deg.beam24.i.cube.fixed.fits\n"
      ]
     },
     "metadata": {},
     "output_type": "display_data"
    },
    {
     "name": "stderr",
     "output_type": "stream",
     "text": [
      "\u001b[32;20mSPICE-INFO\u001b[0m 2024-02-15 13:59:20.894 cutout - cutout_image: Written to /scratch3/projects/spiceracs/askap_pol_testing/cubes/cutouts/3C286/3C286.cutout.SB51997.3C286_45deg.beam25.i.cube.fixed.fits\n"
     ]
    },
    {
     "data": {
      "text/html": [
       "<pre style=\"white-space:pre;overflow-x:auto;line-height:normal;font-family:Menlo,'DejaVu Sans Mono',consolas,'Courier New',monospace\">13:59:20.894 | <span style=\"color: #008080; text-decoration-color: #008080\">INFO</span>    | arrakis - Written to /scratch3/projects/spiceracs/askap_pol_testing/cubes/cutouts/3C286/3C286.cutout.SB51997.3C286_45deg.beam25.i.cube.fixed.fits\n",
       "</pre>\n"
      ],
      "text/plain": [
       "13:59:20.894 | \u001b[36mINFO\u001b[0m    | arrakis - Written to /scratch3/projects/spiceracs/askap_pol_testing/cubes/cutouts/3C286/3C286.cutout.SB51997.3C286_45deg.beam25.i.cube.fixed.fits\n"
      ]
     },
     "metadata": {},
     "output_type": "display_data"
    },
    {
     "name": "stderr",
     "output_type": "stream",
     "text": [
      "\u001b[32;20mSPICE-INFO\u001b[0m 2024-02-15 13:59:20.949 cutout - cutout_image: Written to /scratch3/projects/spiceracs/askap_pol_testing/cubes/cutouts/3C286/3C286.cutout.SB51997.3C286_45deg.beam26.i.cube.fixed.fits\n"
     ]
    },
    {
     "data": {
      "text/html": [
       "<pre style=\"white-space:pre;overflow-x:auto;line-height:normal;font-family:Menlo,'DejaVu Sans Mono',consolas,'Courier New',monospace\">13:59:20.949 | <span style=\"color: #008080; text-decoration-color: #008080\">INFO</span>    | arrakis - Written to /scratch3/projects/spiceracs/askap_pol_testing/cubes/cutouts/3C286/3C286.cutout.SB51997.3C286_45deg.beam26.i.cube.fixed.fits\n",
       "</pre>\n"
      ],
      "text/plain": [
       "13:59:20.949 | \u001b[36mINFO\u001b[0m    | arrakis - Written to /scratch3/projects/spiceracs/askap_pol_testing/cubes/cutouts/3C286/3C286.cutout.SB51997.3C286_45deg.beam26.i.cube.fixed.fits\n"
      ]
     },
     "metadata": {},
     "output_type": "display_data"
    },
    {
     "name": "stderr",
     "output_type": "stream",
     "text": [
      "\u001b[32;20mSPICE-INFO\u001b[0m 2024-02-15 13:59:21.002 cutout - cutout_image: Written to /scratch3/projects/spiceracs/askap_pol_testing/cubes/cutouts/3C286/3C286.cutout.SB51997.3C286_45deg.beam27.i.cube.fixed.fits\n"
     ]
    },
    {
     "data": {
      "text/html": [
       "<pre style=\"white-space:pre;overflow-x:auto;line-height:normal;font-family:Menlo,'DejaVu Sans Mono',consolas,'Courier New',monospace\">13:59:21.002 | <span style=\"color: #008080; text-decoration-color: #008080\">INFO</span>    | arrakis - Written to /scratch3/projects/spiceracs/askap_pol_testing/cubes/cutouts/3C286/3C286.cutout.SB51997.3C286_45deg.beam27.i.cube.fixed.fits\n",
       "</pre>\n"
      ],
      "text/plain": [
       "13:59:21.002 | \u001b[36mINFO\u001b[0m    | arrakis - Written to /scratch3/projects/spiceracs/askap_pol_testing/cubes/cutouts/3C286/3C286.cutout.SB51997.3C286_45deg.beam27.i.cube.fixed.fits\n"
      ]
     },
     "metadata": {},
     "output_type": "display_data"
    },
    {
     "name": "stderr",
     "output_type": "stream",
     "text": [
      "\u001b[32;20mSPICE-INFO\u001b[0m 2024-02-15 13:59:21.057 cutout - cutout_image: Written to /scratch3/projects/spiceracs/askap_pol_testing/cubes/cutouts/3C286/3C286.cutout.SB51997.3C286_45deg.beam28.i.cube.fixed.fits\n"
     ]
    },
    {
     "data": {
      "text/html": [
       "<pre style=\"white-space:pre;overflow-x:auto;line-height:normal;font-family:Menlo,'DejaVu Sans Mono',consolas,'Courier New',monospace\">13:59:21.057 | <span style=\"color: #008080; text-decoration-color: #008080\">INFO</span>    | arrakis - Written to /scratch3/projects/spiceracs/askap_pol_testing/cubes/cutouts/3C286/3C286.cutout.SB51997.3C286_45deg.beam28.i.cube.fixed.fits\n",
       "</pre>\n"
      ],
      "text/plain": [
       "13:59:21.057 | \u001b[36mINFO\u001b[0m    | arrakis - Written to /scratch3/projects/spiceracs/askap_pol_testing/cubes/cutouts/3C286/3C286.cutout.SB51997.3C286_45deg.beam28.i.cube.fixed.fits\n"
      ]
     },
     "metadata": {},
     "output_type": "display_data"
    },
    {
     "name": "stderr",
     "output_type": "stream",
     "text": [
      "\u001b[32;20mSPICE-INFO\u001b[0m 2024-02-15 13:59:21.112 cutout - cutout_image: Written to /scratch3/projects/spiceracs/askap_pol_testing/cubes/cutouts/3C286/3C286.cutout.SB51997.3C286_45deg.beam29.i.cube.fixed.fits\n"
     ]
    },
    {
     "data": {
      "text/html": [
       "<pre style=\"white-space:pre;overflow-x:auto;line-height:normal;font-family:Menlo,'DejaVu Sans Mono',consolas,'Courier New',monospace\">13:59:21.112 | <span style=\"color: #008080; text-decoration-color: #008080\">INFO</span>    | arrakis - Written to /scratch3/projects/spiceracs/askap_pol_testing/cubes/cutouts/3C286/3C286.cutout.SB51997.3C286_45deg.beam29.i.cube.fixed.fits\n",
       "</pre>\n"
      ],
      "text/plain": [
       "13:59:21.112 | \u001b[36mINFO\u001b[0m    | arrakis - Written to /scratch3/projects/spiceracs/askap_pol_testing/cubes/cutouts/3C286/3C286.cutout.SB51997.3C286_45deg.beam29.i.cube.fixed.fits\n"
      ]
     },
     "metadata": {},
     "output_type": "display_data"
    },
    {
     "name": "stderr",
     "output_type": "stream",
     "text": [
      "\u001b[32;20mSPICE-INFO\u001b[0m 2024-02-15 13:59:21.165 cutout - cutout_image: Written to /scratch3/projects/spiceracs/askap_pol_testing/cubes/cutouts/3C286/3C286.cutout.SB51997.3C286_45deg.beam30.i.cube.fixed.fits\n"
     ]
    },
    {
     "data": {
      "text/html": [
       "<pre style=\"white-space:pre;overflow-x:auto;line-height:normal;font-family:Menlo,'DejaVu Sans Mono',consolas,'Courier New',monospace\">13:59:21.165 | <span style=\"color: #008080; text-decoration-color: #008080\">INFO</span>    | arrakis - Written to /scratch3/projects/spiceracs/askap_pol_testing/cubes/cutouts/3C286/3C286.cutout.SB51997.3C286_45deg.beam30.i.cube.fixed.fits\n",
       "</pre>\n"
      ],
      "text/plain": [
       "13:59:21.165 | \u001b[36mINFO\u001b[0m    | arrakis - Written to /scratch3/projects/spiceracs/askap_pol_testing/cubes/cutouts/3C286/3C286.cutout.SB51997.3C286_45deg.beam30.i.cube.fixed.fits\n"
      ]
     },
     "metadata": {},
     "output_type": "display_data"
    },
    {
     "name": "stderr",
     "output_type": "stream",
     "text": [
      "\u001b[32;20mSPICE-INFO\u001b[0m 2024-02-15 13:59:21.217 cutout - cutout_image: Written to /scratch3/projects/spiceracs/askap_pol_testing/cubes/cutouts/3C286/3C286.cutout.SB51997.3C286_45deg.beam32.i.cube.fixed.fits\n"
     ]
    },
    {
     "name": "stdout",
     "output_type": "stream",
     "text": [
      "Failed for SB51997.3C286_45deg.beam31.i.cube.fixed.fits: [Errno 2] No such file or directory: 'SB51997.3C286_45deg.beam31.i.cube.fixed.fits'\n"
     ]
    },
    {
     "data": {
      "text/html": [
       "<pre style=\"white-space:pre;overflow-x:auto;line-height:normal;font-family:Menlo,'DejaVu Sans Mono',consolas,'Courier New',monospace\">13:59:21.217 | <span style=\"color: #008080; text-decoration-color: #008080\">INFO</span>    | arrakis - Written to /scratch3/projects/spiceracs/askap_pol_testing/cubes/cutouts/3C286/3C286.cutout.SB51997.3C286_45deg.beam32.i.cube.fixed.fits\n",
       "</pre>\n"
      ],
      "text/plain": [
       "13:59:21.217 | \u001b[36mINFO\u001b[0m    | arrakis - Written to /scratch3/projects/spiceracs/askap_pol_testing/cubes/cutouts/3C286/3C286.cutout.SB51997.3C286_45deg.beam32.i.cube.fixed.fits\n"
      ]
     },
     "metadata": {},
     "output_type": "display_data"
    },
    {
     "name": "stderr",
     "output_type": "stream",
     "text": [
      "\u001b[32;20mSPICE-INFO\u001b[0m 2024-02-15 13:59:21.270 cutout - cutout_image: Written to /scratch3/projects/spiceracs/askap_pol_testing/cubes/cutouts/3C286/3C286.cutout.SB51997.3C286_45deg.beam33.i.cube.fixed.fits\n"
     ]
    },
    {
     "data": {
      "text/html": [
       "<pre style=\"white-space:pre;overflow-x:auto;line-height:normal;font-family:Menlo,'DejaVu Sans Mono',consolas,'Courier New',monospace\">13:59:21.270 | <span style=\"color: #008080; text-decoration-color: #008080\">INFO</span>    | arrakis - Written to /scratch3/projects/spiceracs/askap_pol_testing/cubes/cutouts/3C286/3C286.cutout.SB51997.3C286_45deg.beam33.i.cube.fixed.fits\n",
       "</pre>\n"
      ],
      "text/plain": [
       "13:59:21.270 | \u001b[36mINFO\u001b[0m    | arrakis - Written to /scratch3/projects/spiceracs/askap_pol_testing/cubes/cutouts/3C286/3C286.cutout.SB51997.3C286_45deg.beam33.i.cube.fixed.fits\n"
      ]
     },
     "metadata": {},
     "output_type": "display_data"
    },
    {
     "name": "stderr",
     "output_type": "stream",
     "text": [
      "\u001b[32;20mSPICE-INFO\u001b[0m 2024-02-15 13:59:21.325 cutout - cutout_image: Written to /scratch3/projects/spiceracs/askap_pol_testing/cubes/cutouts/3C286/3C286.cutout.SB51997.3C286_45deg.beam34.i.cube.fixed.fits\n"
     ]
    },
    {
     "data": {
      "text/html": [
       "<pre style=\"white-space:pre;overflow-x:auto;line-height:normal;font-family:Menlo,'DejaVu Sans Mono',consolas,'Courier New',monospace\">13:59:21.325 | <span style=\"color: #008080; text-decoration-color: #008080\">INFO</span>    | arrakis - Written to /scratch3/projects/spiceracs/askap_pol_testing/cubes/cutouts/3C286/3C286.cutout.SB51997.3C286_45deg.beam34.i.cube.fixed.fits\n",
       "</pre>\n"
      ],
      "text/plain": [
       "13:59:21.325 | \u001b[36mINFO\u001b[0m    | arrakis - Written to /scratch3/projects/spiceracs/askap_pol_testing/cubes/cutouts/3C286/3C286.cutout.SB51997.3C286_45deg.beam34.i.cube.fixed.fits\n"
      ]
     },
     "metadata": {},
     "output_type": "display_data"
    },
    {
     "name": "stderr",
     "output_type": "stream",
     "text": [
      "\u001b[32;20mSPICE-INFO\u001b[0m 2024-02-15 13:59:21.377 cutout - cutout_image: Written to /scratch3/projects/spiceracs/askap_pol_testing/cubes/cutouts/3C286/3C286.cutout.SB51997.3C286_45deg.beam35.i.cube.fixed.fits\n"
     ]
    },
    {
     "data": {
      "text/html": [
       "<pre style=\"white-space:pre;overflow-x:auto;line-height:normal;font-family:Menlo,'DejaVu Sans Mono',consolas,'Courier New',monospace\">13:59:21.377 | <span style=\"color: #008080; text-decoration-color: #008080\">INFO</span>    | arrakis - Written to /scratch3/projects/spiceracs/askap_pol_testing/cubes/cutouts/3C286/3C286.cutout.SB51997.3C286_45deg.beam35.i.cube.fixed.fits\n",
       "</pre>\n"
      ],
      "text/plain": [
       "13:59:21.377 | \u001b[36mINFO\u001b[0m    | arrakis - Written to /scratch3/projects/spiceracs/askap_pol_testing/cubes/cutouts/3C286/3C286.cutout.SB51997.3C286_45deg.beam35.i.cube.fixed.fits\n"
      ]
     },
     "metadata": {},
     "output_type": "display_data"
    },
    {
     "name": "stderr",
     "output_type": "stream",
     "text": [
      "\u001b[32;20mSPICE-INFO\u001b[0m 2024-02-15 13:59:21.647 cutout - cutout_image: Written to /scratch3/projects/spiceracs/askap_pol_testing/cubes/cutouts/3C286/3C286.cutout.SB51997.3C286_45deg.beam0.q.cube.fixed.fits\n"
     ]
    },
    {
     "data": {
      "text/html": [
       "<pre style=\"white-space:pre;overflow-x:auto;line-height:normal;font-family:Menlo,'DejaVu Sans Mono',consolas,'Courier New',monospace\">13:59:21.647 | <span style=\"color: #008080; text-decoration-color: #008080\">INFO</span>    | arrakis - Written to /scratch3/projects/spiceracs/askap_pol_testing/cubes/cutouts/3C286/3C286.cutout.SB51997.3C286_45deg.beam0.q.cube.fixed.fits\n",
       "</pre>\n"
      ],
      "text/plain": [
       "13:59:21.647 | \u001b[36mINFO\u001b[0m    | arrakis - Written to /scratch3/projects/spiceracs/askap_pol_testing/cubes/cutouts/3C286/3C286.cutout.SB51997.3C286_45deg.beam0.q.cube.fixed.fits\n"
      ]
     },
     "metadata": {},
     "output_type": "display_data"
    },
    {
     "name": "stderr",
     "output_type": "stream",
     "text": [
      "\u001b[32;20mSPICE-INFO\u001b[0m 2024-02-15 13:59:21.906 cutout - cutout_image: Written to /scratch3/projects/spiceracs/askap_pol_testing/cubes/cutouts/3C286/3C286.cutout.SB51997.3C286_45deg.beam1.q.cube.fixed.fits\n"
     ]
    },
    {
     "data": {
      "text/html": [
       "<pre style=\"white-space:pre;overflow-x:auto;line-height:normal;font-family:Menlo,'DejaVu Sans Mono',consolas,'Courier New',monospace\">13:59:21.906 | <span style=\"color: #008080; text-decoration-color: #008080\">INFO</span>    | arrakis - Written to /scratch3/projects/spiceracs/askap_pol_testing/cubes/cutouts/3C286/3C286.cutout.SB51997.3C286_45deg.beam1.q.cube.fixed.fits\n",
       "</pre>\n"
      ],
      "text/plain": [
       "13:59:21.906 | \u001b[36mINFO\u001b[0m    | arrakis - Written to /scratch3/projects/spiceracs/askap_pol_testing/cubes/cutouts/3C286/3C286.cutout.SB51997.3C286_45deg.beam1.q.cube.fixed.fits\n"
      ]
     },
     "metadata": {},
     "output_type": "display_data"
    },
    {
     "name": "stderr",
     "output_type": "stream",
     "text": [
      "\u001b[32;20mSPICE-INFO\u001b[0m 2024-02-15 13:59:21.962 cutout - cutout_image: Written to /scratch3/projects/spiceracs/askap_pol_testing/cubes/cutouts/3C286/3C286.cutout.SB51997.3C286_45deg.beam2.q.cube.fixed.fits\n"
     ]
    },
    {
     "data": {
      "text/html": [
       "<pre style=\"white-space:pre;overflow-x:auto;line-height:normal;font-family:Menlo,'DejaVu Sans Mono',consolas,'Courier New',monospace\">13:59:21.962 | <span style=\"color: #008080; text-decoration-color: #008080\">INFO</span>    | arrakis - Written to /scratch3/projects/spiceracs/askap_pol_testing/cubes/cutouts/3C286/3C286.cutout.SB51997.3C286_45deg.beam2.q.cube.fixed.fits\n",
       "</pre>\n"
      ],
      "text/plain": [
       "13:59:21.962 | \u001b[36mINFO\u001b[0m    | arrakis - Written to /scratch3/projects/spiceracs/askap_pol_testing/cubes/cutouts/3C286/3C286.cutout.SB51997.3C286_45deg.beam2.q.cube.fixed.fits\n"
      ]
     },
     "metadata": {},
     "output_type": "display_data"
    },
    {
     "name": "stderr",
     "output_type": "stream",
     "text": [
      "\u001b[32;20mSPICE-INFO\u001b[0m 2024-02-15 13:59:22.015 cutout - cutout_image: Written to /scratch3/projects/spiceracs/askap_pol_testing/cubes/cutouts/3C286/3C286.cutout.SB51997.3C286_45deg.beam3.q.cube.fixed.fits\n"
     ]
    },
    {
     "data": {
      "text/html": [
       "<pre style=\"white-space:pre;overflow-x:auto;line-height:normal;font-family:Menlo,'DejaVu Sans Mono',consolas,'Courier New',monospace\">13:59:22.015 | <span style=\"color: #008080; text-decoration-color: #008080\">INFO</span>    | arrakis - Written to /scratch3/projects/spiceracs/askap_pol_testing/cubes/cutouts/3C286/3C286.cutout.SB51997.3C286_45deg.beam3.q.cube.fixed.fits\n",
       "</pre>\n"
      ],
      "text/plain": [
       "13:59:22.015 | \u001b[36mINFO\u001b[0m    | arrakis - Written to /scratch3/projects/spiceracs/askap_pol_testing/cubes/cutouts/3C286/3C286.cutout.SB51997.3C286_45deg.beam3.q.cube.fixed.fits\n"
      ]
     },
     "metadata": {},
     "output_type": "display_data"
    },
    {
     "name": "stderr",
     "output_type": "stream",
     "text": [
      "\u001b[32;20mSPICE-INFO\u001b[0m 2024-02-15 13:59:22.067 cutout - cutout_image: Written to /scratch3/projects/spiceracs/askap_pol_testing/cubes/cutouts/3C286/3C286.cutout.SB51997.3C286_45deg.beam4.q.cube.fixed.fits\n"
     ]
    },
    {
     "data": {
      "text/html": [
       "<pre style=\"white-space:pre;overflow-x:auto;line-height:normal;font-family:Menlo,'DejaVu Sans Mono',consolas,'Courier New',monospace\">13:59:22.067 | <span style=\"color: #008080; text-decoration-color: #008080\">INFO</span>    | arrakis - Written to /scratch3/projects/spiceracs/askap_pol_testing/cubes/cutouts/3C286/3C286.cutout.SB51997.3C286_45deg.beam4.q.cube.fixed.fits\n",
       "</pre>\n"
      ],
      "text/plain": [
       "13:59:22.067 | \u001b[36mINFO\u001b[0m    | arrakis - Written to /scratch3/projects/spiceracs/askap_pol_testing/cubes/cutouts/3C286/3C286.cutout.SB51997.3C286_45deg.beam4.q.cube.fixed.fits\n"
      ]
     },
     "metadata": {},
     "output_type": "display_data"
    },
    {
     "name": "stderr",
     "output_type": "stream",
     "text": [
      "\u001b[32;20mSPICE-INFO\u001b[0m 2024-02-15 13:59:22.120 cutout - cutout_image: Written to /scratch3/projects/spiceracs/askap_pol_testing/cubes/cutouts/3C286/3C286.cutout.SB51997.3C286_45deg.beam5.q.cube.fixed.fits\n"
     ]
    },
    {
     "data": {
      "text/html": [
       "<pre style=\"white-space:pre;overflow-x:auto;line-height:normal;font-family:Menlo,'DejaVu Sans Mono',consolas,'Courier New',monospace\">13:59:22.120 | <span style=\"color: #008080; text-decoration-color: #008080\">INFO</span>    | arrakis - Written to /scratch3/projects/spiceracs/askap_pol_testing/cubes/cutouts/3C286/3C286.cutout.SB51997.3C286_45deg.beam5.q.cube.fixed.fits\n",
       "</pre>\n"
      ],
      "text/plain": [
       "13:59:22.120 | \u001b[36mINFO\u001b[0m    | arrakis - Written to /scratch3/projects/spiceracs/askap_pol_testing/cubes/cutouts/3C286/3C286.cutout.SB51997.3C286_45deg.beam5.q.cube.fixed.fits\n"
      ]
     },
     "metadata": {},
     "output_type": "display_data"
    },
    {
     "name": "stderr",
     "output_type": "stream",
     "text": [
      "\u001b[32;20mSPICE-INFO\u001b[0m 2024-02-15 13:59:22.384 cutout - cutout_image: Written to /scratch3/projects/spiceracs/askap_pol_testing/cubes/cutouts/3C286/3C286.cutout.SB51997.3C286_45deg.beam6.q.cube.fixed.fits\n"
     ]
    },
    {
     "data": {
      "text/html": [
       "<pre style=\"white-space:pre;overflow-x:auto;line-height:normal;font-family:Menlo,'DejaVu Sans Mono',consolas,'Courier New',monospace\">13:59:22.384 | <span style=\"color: #008080; text-decoration-color: #008080\">INFO</span>    | arrakis - Written to /scratch3/projects/spiceracs/askap_pol_testing/cubes/cutouts/3C286/3C286.cutout.SB51997.3C286_45deg.beam6.q.cube.fixed.fits\n",
       "</pre>\n"
      ],
      "text/plain": [
       "13:59:22.384 | \u001b[36mINFO\u001b[0m    | arrakis - Written to /scratch3/projects/spiceracs/askap_pol_testing/cubes/cutouts/3C286/3C286.cutout.SB51997.3C286_45deg.beam6.q.cube.fixed.fits\n"
      ]
     },
     "metadata": {},
     "output_type": "display_data"
    },
    {
     "name": "stderr",
     "output_type": "stream",
     "text": [
      "\u001b[32;20mSPICE-INFO\u001b[0m 2024-02-15 13:59:22.440 cutout - cutout_image: Written to /scratch3/projects/spiceracs/askap_pol_testing/cubes/cutouts/3C286/3C286.cutout.SB51997.3C286_45deg.beam7.q.cube.fixed.fits\n"
     ]
    },
    {
     "data": {
      "text/html": [
       "<pre style=\"white-space:pre;overflow-x:auto;line-height:normal;font-family:Menlo,'DejaVu Sans Mono',consolas,'Courier New',monospace\">13:59:22.440 | <span style=\"color: #008080; text-decoration-color: #008080\">INFO</span>    | arrakis - Written to /scratch3/projects/spiceracs/askap_pol_testing/cubes/cutouts/3C286/3C286.cutout.SB51997.3C286_45deg.beam7.q.cube.fixed.fits\n",
       "</pre>\n"
      ],
      "text/plain": [
       "13:59:22.440 | \u001b[36mINFO\u001b[0m    | arrakis - Written to /scratch3/projects/spiceracs/askap_pol_testing/cubes/cutouts/3C286/3C286.cutout.SB51997.3C286_45deg.beam7.q.cube.fixed.fits\n"
      ]
     },
     "metadata": {},
     "output_type": "display_data"
    },
    {
     "name": "stderr",
     "output_type": "stream",
     "text": [
      "\u001b[32;20mSPICE-INFO\u001b[0m 2024-02-15 13:59:22.494 cutout - cutout_image: Written to /scratch3/projects/spiceracs/askap_pol_testing/cubes/cutouts/3C286/3C286.cutout.SB51997.3C286_45deg.beam8.q.cube.fixed.fits\n"
     ]
    },
    {
     "data": {
      "text/html": [
       "<pre style=\"white-space:pre;overflow-x:auto;line-height:normal;font-family:Menlo,'DejaVu Sans Mono',consolas,'Courier New',monospace\">13:59:22.494 | <span style=\"color: #008080; text-decoration-color: #008080\">INFO</span>    | arrakis - Written to /scratch3/projects/spiceracs/askap_pol_testing/cubes/cutouts/3C286/3C286.cutout.SB51997.3C286_45deg.beam8.q.cube.fixed.fits\n",
       "</pre>\n"
      ],
      "text/plain": [
       "13:59:22.494 | \u001b[36mINFO\u001b[0m    | arrakis - Written to /scratch3/projects/spiceracs/askap_pol_testing/cubes/cutouts/3C286/3C286.cutout.SB51997.3C286_45deg.beam8.q.cube.fixed.fits\n"
      ]
     },
     "metadata": {},
     "output_type": "display_data"
    },
    {
     "name": "stderr",
     "output_type": "stream",
     "text": [
      "\u001b[32;20mSPICE-INFO\u001b[0m 2024-02-15 13:59:22.548 cutout - cutout_image: Written to /scratch3/projects/spiceracs/askap_pol_testing/cubes/cutouts/3C286/3C286.cutout.SB51997.3C286_45deg.beam9.q.cube.fixed.fits\n"
     ]
    },
    {
     "data": {
      "text/html": [
       "<pre style=\"white-space:pre;overflow-x:auto;line-height:normal;font-family:Menlo,'DejaVu Sans Mono',consolas,'Courier New',monospace\">13:59:22.548 | <span style=\"color: #008080; text-decoration-color: #008080\">INFO</span>    | arrakis - Written to /scratch3/projects/spiceracs/askap_pol_testing/cubes/cutouts/3C286/3C286.cutout.SB51997.3C286_45deg.beam9.q.cube.fixed.fits\n",
       "</pre>\n"
      ],
      "text/plain": [
       "13:59:22.548 | \u001b[36mINFO\u001b[0m    | arrakis - Written to /scratch3/projects/spiceracs/askap_pol_testing/cubes/cutouts/3C286/3C286.cutout.SB51997.3C286_45deg.beam9.q.cube.fixed.fits\n"
      ]
     },
     "metadata": {},
     "output_type": "display_data"
    },
    {
     "name": "stderr",
     "output_type": "stream",
     "text": [
      "\u001b[32;20mSPICE-INFO\u001b[0m 2024-02-15 13:59:22.601 cutout - cutout_image: Written to /scratch3/projects/spiceracs/askap_pol_testing/cubes/cutouts/3C286/3C286.cutout.SB51997.3C286_45deg.beam10.q.cube.fixed.fits\n"
     ]
    },
    {
     "data": {
      "text/html": [
       "<pre style=\"white-space:pre;overflow-x:auto;line-height:normal;font-family:Menlo,'DejaVu Sans Mono',consolas,'Courier New',monospace\">13:59:22.601 | <span style=\"color: #008080; text-decoration-color: #008080\">INFO</span>    | arrakis - Written to /scratch3/projects/spiceracs/askap_pol_testing/cubes/cutouts/3C286/3C286.cutout.SB51997.3C286_45deg.beam10.q.cube.fixed.fits\n",
       "</pre>\n"
      ],
      "text/plain": [
       "13:59:22.601 | \u001b[36mINFO\u001b[0m    | arrakis - Written to /scratch3/projects/spiceracs/askap_pol_testing/cubes/cutouts/3C286/3C286.cutout.SB51997.3C286_45deg.beam10.q.cube.fixed.fits\n"
      ]
     },
     "metadata": {},
     "output_type": "display_data"
    },
    {
     "name": "stderr",
     "output_type": "stream",
     "text": [
      "\u001b[32;20mSPICE-INFO\u001b[0m 2024-02-15 13:59:22.655 cutout - cutout_image: Written to /scratch3/projects/spiceracs/askap_pol_testing/cubes/cutouts/3C286/3C286.cutout.SB51997.3C286_45deg.beam11.q.cube.fixed.fits\n"
     ]
    },
    {
     "data": {
      "text/html": [
       "<pre style=\"white-space:pre;overflow-x:auto;line-height:normal;font-family:Menlo,'DejaVu Sans Mono',consolas,'Courier New',monospace\">13:59:22.655 | <span style=\"color: #008080; text-decoration-color: #008080\">INFO</span>    | arrakis - Written to /scratch3/projects/spiceracs/askap_pol_testing/cubes/cutouts/3C286/3C286.cutout.SB51997.3C286_45deg.beam11.q.cube.fixed.fits\n",
       "</pre>\n"
      ],
      "text/plain": [
       "13:59:22.655 | \u001b[36mINFO\u001b[0m    | arrakis - Written to /scratch3/projects/spiceracs/askap_pol_testing/cubes/cutouts/3C286/3C286.cutout.SB51997.3C286_45deg.beam11.q.cube.fixed.fits\n"
      ]
     },
     "metadata": {},
     "output_type": "display_data"
    },
    {
     "name": "stderr",
     "output_type": "stream",
     "text": [
      "\u001b[32;20mSPICE-INFO\u001b[0m 2024-02-15 13:59:22.946 cutout - cutout_image: Written to /scratch3/projects/spiceracs/askap_pol_testing/cubes/cutouts/3C286/3C286.cutout.SB51997.3C286_45deg.beam12.q.cube.fixed.fits\n"
     ]
    },
    {
     "data": {
      "text/html": [
       "<pre style=\"white-space:pre;overflow-x:auto;line-height:normal;font-family:Menlo,'DejaVu Sans Mono',consolas,'Courier New',monospace\">13:59:22.946 | <span style=\"color: #008080; text-decoration-color: #008080\">INFO</span>    | arrakis - Written to /scratch3/projects/spiceracs/askap_pol_testing/cubes/cutouts/3C286/3C286.cutout.SB51997.3C286_45deg.beam12.q.cube.fixed.fits\n",
       "</pre>\n"
      ],
      "text/plain": [
       "13:59:22.946 | \u001b[36mINFO\u001b[0m    | arrakis - Written to /scratch3/projects/spiceracs/askap_pol_testing/cubes/cutouts/3C286/3C286.cutout.SB51997.3C286_45deg.beam12.q.cube.fixed.fits\n"
      ]
     },
     "metadata": {},
     "output_type": "display_data"
    },
    {
     "name": "stderr",
     "output_type": "stream",
     "text": [
      "\u001b[32;20mSPICE-INFO\u001b[0m 2024-02-15 13:59:23.350 cutout - cutout_image: Written to /scratch3/projects/spiceracs/askap_pol_testing/cubes/cutouts/3C286/3C286.cutout.SB51997.3C286_45deg.beam13.q.cube.fixed.fits\n"
     ]
    },
    {
     "data": {
      "text/html": [
       "<pre style=\"white-space:pre;overflow-x:auto;line-height:normal;font-family:Menlo,'DejaVu Sans Mono',consolas,'Courier New',monospace\">13:59:23.350 | <span style=\"color: #008080; text-decoration-color: #008080\">INFO</span>    | arrakis - Written to /scratch3/projects/spiceracs/askap_pol_testing/cubes/cutouts/3C286/3C286.cutout.SB51997.3C286_45deg.beam13.q.cube.fixed.fits\n",
       "</pre>\n"
      ],
      "text/plain": [
       "13:59:23.350 | \u001b[36mINFO\u001b[0m    | arrakis - Written to /scratch3/projects/spiceracs/askap_pol_testing/cubes/cutouts/3C286/3C286.cutout.SB51997.3C286_45deg.beam13.q.cube.fixed.fits\n"
      ]
     },
     "metadata": {},
     "output_type": "display_data"
    },
    {
     "name": "stderr",
     "output_type": "stream",
     "text": [
      "\u001b[32;20mSPICE-INFO\u001b[0m 2024-02-15 13:59:23.407 cutout - cutout_image: Written to /scratch3/projects/spiceracs/askap_pol_testing/cubes/cutouts/3C286/3C286.cutout.SB51997.3C286_45deg.beam14.q.cube.fixed.fits\n"
     ]
    },
    {
     "data": {
      "text/html": [
       "<pre style=\"white-space:pre;overflow-x:auto;line-height:normal;font-family:Menlo,'DejaVu Sans Mono',consolas,'Courier New',monospace\">13:59:23.407 | <span style=\"color: #008080; text-decoration-color: #008080\">INFO</span>    | arrakis - Written to /scratch3/projects/spiceracs/askap_pol_testing/cubes/cutouts/3C286/3C286.cutout.SB51997.3C286_45deg.beam14.q.cube.fixed.fits\n",
       "</pre>\n"
      ],
      "text/plain": [
       "13:59:23.407 | \u001b[36mINFO\u001b[0m    | arrakis - Written to /scratch3/projects/spiceracs/askap_pol_testing/cubes/cutouts/3C286/3C286.cutout.SB51997.3C286_45deg.beam14.q.cube.fixed.fits\n"
      ]
     },
     "metadata": {},
     "output_type": "display_data"
    },
    {
     "name": "stderr",
     "output_type": "stream",
     "text": [
      "\u001b[32;20mSPICE-INFO\u001b[0m 2024-02-15 13:59:23.460 cutout - cutout_image: Written to /scratch3/projects/spiceracs/askap_pol_testing/cubes/cutouts/3C286/3C286.cutout.SB51997.3C286_45deg.beam15.q.cube.fixed.fits\n"
     ]
    },
    {
     "data": {
      "text/html": [
       "<pre style=\"white-space:pre;overflow-x:auto;line-height:normal;font-family:Menlo,'DejaVu Sans Mono',consolas,'Courier New',monospace\">13:59:23.460 | <span style=\"color: #008080; text-decoration-color: #008080\">INFO</span>    | arrakis - Written to /scratch3/projects/spiceracs/askap_pol_testing/cubes/cutouts/3C286/3C286.cutout.SB51997.3C286_45deg.beam15.q.cube.fixed.fits\n",
       "</pre>\n"
      ],
      "text/plain": [
       "13:59:23.460 | \u001b[36mINFO\u001b[0m    | arrakis - Written to /scratch3/projects/spiceracs/askap_pol_testing/cubes/cutouts/3C286/3C286.cutout.SB51997.3C286_45deg.beam15.q.cube.fixed.fits\n"
      ]
     },
     "metadata": {},
     "output_type": "display_data"
    },
    {
     "name": "stderr",
     "output_type": "stream",
     "text": [
      "\u001b[32;20mSPICE-INFO\u001b[0m 2024-02-15 13:59:23.513 cutout - cutout_image: Written to /scratch3/projects/spiceracs/askap_pol_testing/cubes/cutouts/3C286/3C286.cutout.SB51997.3C286_45deg.beam16.q.cube.fixed.fits\n"
     ]
    },
    {
     "data": {
      "text/html": [
       "<pre style=\"white-space:pre;overflow-x:auto;line-height:normal;font-family:Menlo,'DejaVu Sans Mono',consolas,'Courier New',monospace\">13:59:23.513 | <span style=\"color: #008080; text-decoration-color: #008080\">INFO</span>    | arrakis - Written to /scratch3/projects/spiceracs/askap_pol_testing/cubes/cutouts/3C286/3C286.cutout.SB51997.3C286_45deg.beam16.q.cube.fixed.fits\n",
       "</pre>\n"
      ],
      "text/plain": [
       "13:59:23.513 | \u001b[36mINFO\u001b[0m    | arrakis - Written to /scratch3/projects/spiceracs/askap_pol_testing/cubes/cutouts/3C286/3C286.cutout.SB51997.3C286_45deg.beam16.q.cube.fixed.fits\n"
      ]
     },
     "metadata": {},
     "output_type": "display_data"
    },
    {
     "name": "stderr",
     "output_type": "stream",
     "text": [
      "\u001b[32;20mSPICE-INFO\u001b[0m 2024-02-15 13:59:23.566 cutout - cutout_image: Written to /scratch3/projects/spiceracs/askap_pol_testing/cubes/cutouts/3C286/3C286.cutout.SB51997.3C286_45deg.beam17.q.cube.fixed.fits\n"
     ]
    },
    {
     "data": {
      "text/html": [
       "<pre style=\"white-space:pre;overflow-x:auto;line-height:normal;font-family:Menlo,'DejaVu Sans Mono',consolas,'Courier New',monospace\">13:59:23.566 | <span style=\"color: #008080; text-decoration-color: #008080\">INFO</span>    | arrakis - Written to /scratch3/projects/spiceracs/askap_pol_testing/cubes/cutouts/3C286/3C286.cutout.SB51997.3C286_45deg.beam17.q.cube.fixed.fits\n",
       "</pre>\n"
      ],
      "text/plain": [
       "13:59:23.566 | \u001b[36mINFO\u001b[0m    | arrakis - Written to /scratch3/projects/spiceracs/askap_pol_testing/cubes/cutouts/3C286/3C286.cutout.SB51997.3C286_45deg.beam17.q.cube.fixed.fits\n"
      ]
     },
     "metadata": {},
     "output_type": "display_data"
    },
    {
     "name": "stderr",
     "output_type": "stream",
     "text": [
      "\u001b[32;20mSPICE-INFO\u001b[0m 2024-02-15 13:59:23.829 cutout - cutout_image: Written to /scratch3/projects/spiceracs/askap_pol_testing/cubes/cutouts/3C286/3C286.cutout.SB51997.3C286_45deg.beam18.q.cube.fixed.fits\n"
     ]
    },
    {
     "data": {
      "text/html": [
       "<pre style=\"white-space:pre;overflow-x:auto;line-height:normal;font-family:Menlo,'DejaVu Sans Mono',consolas,'Courier New',monospace\">13:59:23.829 | <span style=\"color: #008080; text-decoration-color: #008080\">INFO</span>    | arrakis - Written to /scratch3/projects/spiceracs/askap_pol_testing/cubes/cutouts/3C286/3C286.cutout.SB51997.3C286_45deg.beam18.q.cube.fixed.fits\n",
       "</pre>\n"
      ],
      "text/plain": [
       "13:59:23.829 | \u001b[36mINFO\u001b[0m    | arrakis - Written to /scratch3/projects/spiceracs/askap_pol_testing/cubes/cutouts/3C286/3C286.cutout.SB51997.3C286_45deg.beam18.q.cube.fixed.fits\n"
      ]
     },
     "metadata": {},
     "output_type": "display_data"
    },
    {
     "name": "stderr",
     "output_type": "stream",
     "text": [
      "\u001b[32;20mSPICE-INFO\u001b[0m 2024-02-15 13:59:23.885 cutout - cutout_image: Written to /scratch3/projects/spiceracs/askap_pol_testing/cubes/cutouts/3C286/3C286.cutout.SB51997.3C286_45deg.beam19.q.cube.fixed.fits\n"
     ]
    },
    {
     "data": {
      "text/html": [
       "<pre style=\"white-space:pre;overflow-x:auto;line-height:normal;font-family:Menlo,'DejaVu Sans Mono',consolas,'Courier New',monospace\">13:59:23.885 | <span style=\"color: #008080; text-decoration-color: #008080\">INFO</span>    | arrakis - Written to /scratch3/projects/spiceracs/askap_pol_testing/cubes/cutouts/3C286/3C286.cutout.SB51997.3C286_45deg.beam19.q.cube.fixed.fits\n",
       "</pre>\n"
      ],
      "text/plain": [
       "13:59:23.885 | \u001b[36mINFO\u001b[0m    | arrakis - Written to /scratch3/projects/spiceracs/askap_pol_testing/cubes/cutouts/3C286/3C286.cutout.SB51997.3C286_45deg.beam19.q.cube.fixed.fits\n"
      ]
     },
     "metadata": {},
     "output_type": "display_data"
    },
    {
     "name": "stderr",
     "output_type": "stream",
     "text": [
      "\u001b[32;20mSPICE-INFO\u001b[0m 2024-02-15 13:59:23.938 cutout - cutout_image: Written to /scratch3/projects/spiceracs/askap_pol_testing/cubes/cutouts/3C286/3C286.cutout.SB51997.3C286_45deg.beam20.q.cube.fixed.fits\n"
     ]
    },
    {
     "data": {
      "text/html": [
       "<pre style=\"white-space:pre;overflow-x:auto;line-height:normal;font-family:Menlo,'DejaVu Sans Mono',consolas,'Courier New',monospace\">13:59:23.938 | <span style=\"color: #008080; text-decoration-color: #008080\">INFO</span>    | arrakis - Written to /scratch3/projects/spiceracs/askap_pol_testing/cubes/cutouts/3C286/3C286.cutout.SB51997.3C286_45deg.beam20.q.cube.fixed.fits\n",
       "</pre>\n"
      ],
      "text/plain": [
       "13:59:23.938 | \u001b[36mINFO\u001b[0m    | arrakis - Written to /scratch3/projects/spiceracs/askap_pol_testing/cubes/cutouts/3C286/3C286.cutout.SB51997.3C286_45deg.beam20.q.cube.fixed.fits\n"
      ]
     },
     "metadata": {},
     "output_type": "display_data"
    },
    {
     "name": "stderr",
     "output_type": "stream",
     "text": [
      "\u001b[32;20mSPICE-INFO\u001b[0m 2024-02-15 13:59:23.991 cutout - cutout_image: Written to /scratch3/projects/spiceracs/askap_pol_testing/cubes/cutouts/3C286/3C286.cutout.SB51997.3C286_45deg.beam21.q.cube.fixed.fits\n"
     ]
    },
    {
     "data": {
      "text/html": [
       "<pre style=\"white-space:pre;overflow-x:auto;line-height:normal;font-family:Menlo,'DejaVu Sans Mono',consolas,'Courier New',monospace\">13:59:23.991 | <span style=\"color: #008080; text-decoration-color: #008080\">INFO</span>    | arrakis - Written to /scratch3/projects/spiceracs/askap_pol_testing/cubes/cutouts/3C286/3C286.cutout.SB51997.3C286_45deg.beam21.q.cube.fixed.fits\n",
       "</pre>\n"
      ],
      "text/plain": [
       "13:59:23.991 | \u001b[36mINFO\u001b[0m    | arrakis - Written to /scratch3/projects/spiceracs/askap_pol_testing/cubes/cutouts/3C286/3C286.cutout.SB51997.3C286_45deg.beam21.q.cube.fixed.fits\n"
      ]
     },
     "metadata": {},
     "output_type": "display_data"
    },
    {
     "name": "stderr",
     "output_type": "stream",
     "text": [
      "\u001b[32;20mSPICE-INFO\u001b[0m 2024-02-15 13:59:24.047 cutout - cutout_image: Written to /scratch3/projects/spiceracs/askap_pol_testing/cubes/cutouts/3C286/3C286.cutout.SB51997.3C286_45deg.beam22.q.cube.fixed.fits\n"
     ]
    },
    {
     "data": {
      "text/html": [
       "<pre style=\"white-space:pre;overflow-x:auto;line-height:normal;font-family:Menlo,'DejaVu Sans Mono',consolas,'Courier New',monospace\">13:59:24.047 | <span style=\"color: #008080; text-decoration-color: #008080\">INFO</span>    | arrakis - Written to /scratch3/projects/spiceracs/askap_pol_testing/cubes/cutouts/3C286/3C286.cutout.SB51997.3C286_45deg.beam22.q.cube.fixed.fits\n",
       "</pre>\n"
      ],
      "text/plain": [
       "13:59:24.047 | \u001b[36mINFO\u001b[0m    | arrakis - Written to /scratch3/projects/spiceracs/askap_pol_testing/cubes/cutouts/3C286/3C286.cutout.SB51997.3C286_45deg.beam22.q.cube.fixed.fits\n"
      ]
     },
     "metadata": {},
     "output_type": "display_data"
    },
    {
     "name": "stderr",
     "output_type": "stream",
     "text": [
      "\u001b[32;20mSPICE-INFO\u001b[0m 2024-02-15 13:59:24.102 cutout - cutout_image: Written to /scratch3/projects/spiceracs/askap_pol_testing/cubes/cutouts/3C286/3C286.cutout.SB51997.3C286_45deg.beam23.q.cube.fixed.fits\n"
     ]
    },
    {
     "data": {
      "text/html": [
       "<pre style=\"white-space:pre;overflow-x:auto;line-height:normal;font-family:Menlo,'DejaVu Sans Mono',consolas,'Courier New',monospace\">13:59:24.102 | <span style=\"color: #008080; text-decoration-color: #008080\">INFO</span>    | arrakis - Written to /scratch3/projects/spiceracs/askap_pol_testing/cubes/cutouts/3C286/3C286.cutout.SB51997.3C286_45deg.beam23.q.cube.fixed.fits\n",
       "</pre>\n"
      ],
      "text/plain": [
       "13:59:24.102 | \u001b[36mINFO\u001b[0m    | arrakis - Written to /scratch3/projects/spiceracs/askap_pol_testing/cubes/cutouts/3C286/3C286.cutout.SB51997.3C286_45deg.beam23.q.cube.fixed.fits\n"
      ]
     },
     "metadata": {},
     "output_type": "display_data"
    },
    {
     "name": "stderr",
     "output_type": "stream",
     "text": [
      "\u001b[32;20mSPICE-INFO\u001b[0m 2024-02-15 13:59:24.562 cutout - cutout_image: Written to /scratch3/projects/spiceracs/askap_pol_testing/cubes/cutouts/3C286/3C286.cutout.SB51997.3C286_45deg.beam24.q.cube.fixed.fits\n"
     ]
    },
    {
     "data": {
      "text/html": [
       "<pre style=\"white-space:pre;overflow-x:auto;line-height:normal;font-family:Menlo,'DejaVu Sans Mono',consolas,'Courier New',monospace\">13:59:24.562 | <span style=\"color: #008080; text-decoration-color: #008080\">INFO</span>    | arrakis - Written to /scratch3/projects/spiceracs/askap_pol_testing/cubes/cutouts/3C286/3C286.cutout.SB51997.3C286_45deg.beam24.q.cube.fixed.fits\n",
       "</pre>\n"
      ],
      "text/plain": [
       "13:59:24.562 | \u001b[36mINFO\u001b[0m    | arrakis - Written to /scratch3/projects/spiceracs/askap_pol_testing/cubes/cutouts/3C286/3C286.cutout.SB51997.3C286_45deg.beam24.q.cube.fixed.fits\n"
      ]
     },
     "metadata": {},
     "output_type": "display_data"
    },
    {
     "name": "stderr",
     "output_type": "stream",
     "text": [
      "\u001b[32;20mSPICE-INFO\u001b[0m 2024-02-15 13:59:25.031 cutout - cutout_image: Written to /scratch3/projects/spiceracs/askap_pol_testing/cubes/cutouts/3C286/3C286.cutout.SB51997.3C286_45deg.beam25.q.cube.fixed.fits\n"
     ]
    },
    {
     "data": {
      "text/html": [
       "<pre style=\"white-space:pre;overflow-x:auto;line-height:normal;font-family:Menlo,'DejaVu Sans Mono',consolas,'Courier New',monospace\">13:59:25.031 | <span style=\"color: #008080; text-decoration-color: #008080\">INFO</span>    | arrakis - Written to /scratch3/projects/spiceracs/askap_pol_testing/cubes/cutouts/3C286/3C286.cutout.SB51997.3C286_45deg.beam25.q.cube.fixed.fits\n",
       "</pre>\n"
      ],
      "text/plain": [
       "13:59:25.031 | \u001b[36mINFO\u001b[0m    | arrakis - Written to /scratch3/projects/spiceracs/askap_pol_testing/cubes/cutouts/3C286/3C286.cutout.SB51997.3C286_45deg.beam25.q.cube.fixed.fits\n"
      ]
     },
     "metadata": {},
     "output_type": "display_data"
    },
    {
     "name": "stderr",
     "output_type": "stream",
     "text": [
      "\u001b[32;20mSPICE-INFO\u001b[0m 2024-02-15 13:59:25.088 cutout - cutout_image: Written to /scratch3/projects/spiceracs/askap_pol_testing/cubes/cutouts/3C286/3C286.cutout.SB51997.3C286_45deg.beam26.q.cube.fixed.fits\n"
     ]
    },
    {
     "data": {
      "text/html": [
       "<pre style=\"white-space:pre;overflow-x:auto;line-height:normal;font-family:Menlo,'DejaVu Sans Mono',consolas,'Courier New',monospace\">13:59:25.088 | <span style=\"color: #008080; text-decoration-color: #008080\">INFO</span>    | arrakis - Written to /scratch3/projects/spiceracs/askap_pol_testing/cubes/cutouts/3C286/3C286.cutout.SB51997.3C286_45deg.beam26.q.cube.fixed.fits\n",
       "</pre>\n"
      ],
      "text/plain": [
       "13:59:25.088 | \u001b[36mINFO\u001b[0m    | arrakis - Written to /scratch3/projects/spiceracs/askap_pol_testing/cubes/cutouts/3C286/3C286.cutout.SB51997.3C286_45deg.beam26.q.cube.fixed.fits\n"
      ]
     },
     "metadata": {},
     "output_type": "display_data"
    },
    {
     "name": "stderr",
     "output_type": "stream",
     "text": [
      "\u001b[32;20mSPICE-INFO\u001b[0m 2024-02-15 13:59:25.143 cutout - cutout_image: Written to /scratch3/projects/spiceracs/askap_pol_testing/cubes/cutouts/3C286/3C286.cutout.SB51997.3C286_45deg.beam27.q.cube.fixed.fits\n"
     ]
    },
    {
     "data": {
      "text/html": [
       "<pre style=\"white-space:pre;overflow-x:auto;line-height:normal;font-family:Menlo,'DejaVu Sans Mono',consolas,'Courier New',monospace\">13:59:25.143 | <span style=\"color: #008080; text-decoration-color: #008080\">INFO</span>    | arrakis - Written to /scratch3/projects/spiceracs/askap_pol_testing/cubes/cutouts/3C286/3C286.cutout.SB51997.3C286_45deg.beam27.q.cube.fixed.fits\n",
       "</pre>\n"
      ],
      "text/plain": [
       "13:59:25.143 | \u001b[36mINFO\u001b[0m    | arrakis - Written to /scratch3/projects/spiceracs/askap_pol_testing/cubes/cutouts/3C286/3C286.cutout.SB51997.3C286_45deg.beam27.q.cube.fixed.fits\n"
      ]
     },
     "metadata": {},
     "output_type": "display_data"
    },
    {
     "name": "stderr",
     "output_type": "stream",
     "text": [
      "\u001b[32;20mSPICE-INFO\u001b[0m 2024-02-15 13:59:25.196 cutout - cutout_image: Written to /scratch3/projects/spiceracs/askap_pol_testing/cubes/cutouts/3C286/3C286.cutout.SB51997.3C286_45deg.beam28.q.cube.fixed.fits\n"
     ]
    },
    {
     "data": {
      "text/html": [
       "<pre style=\"white-space:pre;overflow-x:auto;line-height:normal;font-family:Menlo,'DejaVu Sans Mono',consolas,'Courier New',monospace\">13:59:25.196 | <span style=\"color: #008080; text-decoration-color: #008080\">INFO</span>    | arrakis - Written to /scratch3/projects/spiceracs/askap_pol_testing/cubes/cutouts/3C286/3C286.cutout.SB51997.3C286_45deg.beam28.q.cube.fixed.fits\n",
       "</pre>\n"
      ],
      "text/plain": [
       "13:59:25.196 | \u001b[36mINFO\u001b[0m    | arrakis - Written to /scratch3/projects/spiceracs/askap_pol_testing/cubes/cutouts/3C286/3C286.cutout.SB51997.3C286_45deg.beam28.q.cube.fixed.fits\n"
      ]
     },
     "metadata": {},
     "output_type": "display_data"
    },
    {
     "name": "stderr",
     "output_type": "stream",
     "text": [
      "\u001b[32;20mSPICE-INFO\u001b[0m 2024-02-15 13:59:25.250 cutout - cutout_image: Written to /scratch3/projects/spiceracs/askap_pol_testing/cubes/cutouts/3C286/3C286.cutout.SB51997.3C286_45deg.beam29.q.cube.fixed.fits\n"
     ]
    },
    {
     "data": {
      "text/html": [
       "<pre style=\"white-space:pre;overflow-x:auto;line-height:normal;font-family:Menlo,'DejaVu Sans Mono',consolas,'Courier New',monospace\">13:59:25.250 | <span style=\"color: #008080; text-decoration-color: #008080\">INFO</span>    | arrakis - Written to /scratch3/projects/spiceracs/askap_pol_testing/cubes/cutouts/3C286/3C286.cutout.SB51997.3C286_45deg.beam29.q.cube.fixed.fits\n",
       "</pre>\n"
      ],
      "text/plain": [
       "13:59:25.250 | \u001b[36mINFO\u001b[0m    | arrakis - Written to /scratch3/projects/spiceracs/askap_pol_testing/cubes/cutouts/3C286/3C286.cutout.SB51997.3C286_45deg.beam29.q.cube.fixed.fits\n"
      ]
     },
     "metadata": {},
     "output_type": "display_data"
    },
    {
     "name": "stderr",
     "output_type": "stream",
     "text": [
      "\u001b[32;20mSPICE-INFO\u001b[0m 2024-02-15 13:59:25.311 cutout - cutout_image: Written to /scratch3/projects/spiceracs/askap_pol_testing/cubes/cutouts/3C286/3C286.cutout.SB51997.3C286_45deg.beam30.q.cube.fixed.fits\n"
     ]
    },
    {
     "data": {
      "text/html": [
       "<pre style=\"white-space:pre;overflow-x:auto;line-height:normal;font-family:Menlo,'DejaVu Sans Mono',consolas,'Courier New',monospace\">13:59:25.311 | <span style=\"color: #008080; text-decoration-color: #008080\">INFO</span>    | arrakis - Written to /scratch3/projects/spiceracs/askap_pol_testing/cubes/cutouts/3C286/3C286.cutout.SB51997.3C286_45deg.beam30.q.cube.fixed.fits\n",
       "</pre>\n"
      ],
      "text/plain": [
       "13:59:25.311 | \u001b[36mINFO\u001b[0m    | arrakis - Written to /scratch3/projects/spiceracs/askap_pol_testing/cubes/cutouts/3C286/3C286.cutout.SB51997.3C286_45deg.beam30.q.cube.fixed.fits\n"
      ]
     },
     "metadata": {},
     "output_type": "display_data"
    },
    {
     "name": "stderr",
     "output_type": "stream",
     "text": [
      "\u001b[32;20mSPICE-INFO\u001b[0m 2024-02-15 13:59:25.370 cutout - cutout_image: Written to /scratch3/projects/spiceracs/askap_pol_testing/cubes/cutouts/3C286/3C286.cutout.SB51997.3C286_45deg.beam32.q.cube.fixed.fits\n"
     ]
    },
    {
     "name": "stdout",
     "output_type": "stream",
     "text": [
      "Failed for SB51997.3C286_45deg.beam31.q.cube.fixed.fits: [Errno 2] No such file or directory: 'SB51997.3C286_45deg.beam31.q.cube.fixed.fits'\n"
     ]
    },
    {
     "data": {
      "text/html": [
       "<pre style=\"white-space:pre;overflow-x:auto;line-height:normal;font-family:Menlo,'DejaVu Sans Mono',consolas,'Courier New',monospace\">13:59:25.370 | <span style=\"color: #008080; text-decoration-color: #008080\">INFO</span>    | arrakis - Written to /scratch3/projects/spiceracs/askap_pol_testing/cubes/cutouts/3C286/3C286.cutout.SB51997.3C286_45deg.beam32.q.cube.fixed.fits\n",
       "</pre>\n"
      ],
      "text/plain": [
       "13:59:25.370 | \u001b[36mINFO\u001b[0m    | arrakis - Written to /scratch3/projects/spiceracs/askap_pol_testing/cubes/cutouts/3C286/3C286.cutout.SB51997.3C286_45deg.beam32.q.cube.fixed.fits\n"
      ]
     },
     "metadata": {},
     "output_type": "display_data"
    },
    {
     "name": "stderr",
     "output_type": "stream",
     "text": [
      "\u001b[32;20mSPICE-INFO\u001b[0m 2024-02-15 13:59:25.425 cutout - cutout_image: Written to /scratch3/projects/spiceracs/askap_pol_testing/cubes/cutouts/3C286/3C286.cutout.SB51997.3C286_45deg.beam33.q.cube.fixed.fits\n"
     ]
    },
    {
     "data": {
      "text/html": [
       "<pre style=\"white-space:pre;overflow-x:auto;line-height:normal;font-family:Menlo,'DejaVu Sans Mono',consolas,'Courier New',monospace\">13:59:25.425 | <span style=\"color: #008080; text-decoration-color: #008080\">INFO</span>    | arrakis - Written to /scratch3/projects/spiceracs/askap_pol_testing/cubes/cutouts/3C286/3C286.cutout.SB51997.3C286_45deg.beam33.q.cube.fixed.fits\n",
       "</pre>\n"
      ],
      "text/plain": [
       "13:59:25.425 | \u001b[36mINFO\u001b[0m    | arrakis - Written to /scratch3/projects/spiceracs/askap_pol_testing/cubes/cutouts/3C286/3C286.cutout.SB51997.3C286_45deg.beam33.q.cube.fixed.fits\n"
      ]
     },
     "metadata": {},
     "output_type": "display_data"
    },
    {
     "name": "stderr",
     "output_type": "stream",
     "text": [
      "\u001b[32;20mSPICE-INFO\u001b[0m 2024-02-15 13:59:25.481 cutout - cutout_image: Written to /scratch3/projects/spiceracs/askap_pol_testing/cubes/cutouts/3C286/3C286.cutout.SB51997.3C286_45deg.beam34.q.cube.fixed.fits\n"
     ]
    },
    {
     "data": {
      "text/html": [
       "<pre style=\"white-space:pre;overflow-x:auto;line-height:normal;font-family:Menlo,'DejaVu Sans Mono',consolas,'Courier New',monospace\">13:59:25.481 | <span style=\"color: #008080; text-decoration-color: #008080\">INFO</span>    | arrakis - Written to /scratch3/projects/spiceracs/askap_pol_testing/cubes/cutouts/3C286/3C286.cutout.SB51997.3C286_45deg.beam34.q.cube.fixed.fits\n",
       "</pre>\n"
      ],
      "text/plain": [
       "13:59:25.481 | \u001b[36mINFO\u001b[0m    | arrakis - Written to /scratch3/projects/spiceracs/askap_pol_testing/cubes/cutouts/3C286/3C286.cutout.SB51997.3C286_45deg.beam34.q.cube.fixed.fits\n"
      ]
     },
     "metadata": {},
     "output_type": "display_data"
    },
    {
     "name": "stderr",
     "output_type": "stream",
     "text": [
      "\u001b[32;20mSPICE-INFO\u001b[0m 2024-02-15 13:59:25.538 cutout - cutout_image: Written to /scratch3/projects/spiceracs/askap_pol_testing/cubes/cutouts/3C286/3C286.cutout.SB51997.3C286_45deg.beam35.q.cube.fixed.fits\n"
     ]
    },
    {
     "data": {
      "text/html": [
       "<pre style=\"white-space:pre;overflow-x:auto;line-height:normal;font-family:Menlo,'DejaVu Sans Mono',consolas,'Courier New',monospace\">13:59:25.538 | <span style=\"color: #008080; text-decoration-color: #008080\">INFO</span>    | arrakis - Written to /scratch3/projects/spiceracs/askap_pol_testing/cubes/cutouts/3C286/3C286.cutout.SB51997.3C286_45deg.beam35.q.cube.fixed.fits\n",
       "</pre>\n"
      ],
      "text/plain": [
       "13:59:25.538 | \u001b[36mINFO\u001b[0m    | arrakis - Written to /scratch3/projects/spiceracs/askap_pol_testing/cubes/cutouts/3C286/3C286.cutout.SB51997.3C286_45deg.beam35.q.cube.fixed.fits\n"
      ]
     },
     "metadata": {},
     "output_type": "display_data"
    },
    {
     "name": "stderr",
     "output_type": "stream",
     "text": [
      "\u001b[32;20mSPICE-INFO\u001b[0m 2024-02-15 13:59:25.833 cutout - cutout_image: Written to /scratch3/projects/spiceracs/askap_pol_testing/cubes/cutouts/3C286/3C286.cutout.SB51997.3C286_45deg.beam0.u.cube.fixed.fits\n"
     ]
    },
    {
     "data": {
      "text/html": [
       "<pre style=\"white-space:pre;overflow-x:auto;line-height:normal;font-family:Menlo,'DejaVu Sans Mono',consolas,'Courier New',monospace\">13:59:25.833 | <span style=\"color: #008080; text-decoration-color: #008080\">INFO</span>    | arrakis - Written to /scratch3/projects/spiceracs/askap_pol_testing/cubes/cutouts/3C286/3C286.cutout.SB51997.3C286_45deg.beam0.u.cube.fixed.fits\n",
       "</pre>\n"
      ],
      "text/plain": [
       "13:59:25.833 | \u001b[36mINFO\u001b[0m    | arrakis - Written to /scratch3/projects/spiceracs/askap_pol_testing/cubes/cutouts/3C286/3C286.cutout.SB51997.3C286_45deg.beam0.u.cube.fixed.fits\n"
      ]
     },
     "metadata": {},
     "output_type": "display_data"
    },
    {
     "name": "stderr",
     "output_type": "stream",
     "text": [
      "\u001b[32;20mSPICE-INFO\u001b[0m 2024-02-15 13:59:26.140 cutout - cutout_image: Written to /scratch3/projects/spiceracs/askap_pol_testing/cubes/cutouts/3C286/3C286.cutout.SB51997.3C286_45deg.beam1.u.cube.fixed.fits\n"
     ]
    },
    {
     "data": {
      "text/html": [
       "<pre style=\"white-space:pre;overflow-x:auto;line-height:normal;font-family:Menlo,'DejaVu Sans Mono',consolas,'Courier New',monospace\">13:59:26.140 | <span style=\"color: #008080; text-decoration-color: #008080\">INFO</span>    | arrakis - Written to /scratch3/projects/spiceracs/askap_pol_testing/cubes/cutouts/3C286/3C286.cutout.SB51997.3C286_45deg.beam1.u.cube.fixed.fits\n",
       "</pre>\n"
      ],
      "text/plain": [
       "13:59:26.140 | \u001b[36mINFO\u001b[0m    | arrakis - Written to /scratch3/projects/spiceracs/askap_pol_testing/cubes/cutouts/3C286/3C286.cutout.SB51997.3C286_45deg.beam1.u.cube.fixed.fits\n"
      ]
     },
     "metadata": {},
     "output_type": "display_data"
    },
    {
     "name": "stderr",
     "output_type": "stream",
     "text": [
      "\u001b[32;20mSPICE-INFO\u001b[0m 2024-02-15 13:59:26.195 cutout - cutout_image: Written to /scratch3/projects/spiceracs/askap_pol_testing/cubes/cutouts/3C286/3C286.cutout.SB51997.3C286_45deg.beam2.u.cube.fixed.fits\n"
     ]
    },
    {
     "data": {
      "text/html": [
       "<pre style=\"white-space:pre;overflow-x:auto;line-height:normal;font-family:Menlo,'DejaVu Sans Mono',consolas,'Courier New',monospace\">13:59:26.195 | <span style=\"color: #008080; text-decoration-color: #008080\">INFO</span>    | arrakis - Written to /scratch3/projects/spiceracs/askap_pol_testing/cubes/cutouts/3C286/3C286.cutout.SB51997.3C286_45deg.beam2.u.cube.fixed.fits\n",
       "</pre>\n"
      ],
      "text/plain": [
       "13:59:26.195 | \u001b[36mINFO\u001b[0m    | arrakis - Written to /scratch3/projects/spiceracs/askap_pol_testing/cubes/cutouts/3C286/3C286.cutout.SB51997.3C286_45deg.beam2.u.cube.fixed.fits\n"
      ]
     },
     "metadata": {},
     "output_type": "display_data"
    },
    {
     "name": "stderr",
     "output_type": "stream",
     "text": [
      "\u001b[32;20mSPICE-INFO\u001b[0m 2024-02-15 13:59:26.247 cutout - cutout_image: Written to /scratch3/projects/spiceracs/askap_pol_testing/cubes/cutouts/3C286/3C286.cutout.SB51997.3C286_45deg.beam3.u.cube.fixed.fits\n"
     ]
    },
    {
     "data": {
      "text/html": [
       "<pre style=\"white-space:pre;overflow-x:auto;line-height:normal;font-family:Menlo,'DejaVu Sans Mono',consolas,'Courier New',monospace\">13:59:26.247 | <span style=\"color: #008080; text-decoration-color: #008080\">INFO</span>    | arrakis - Written to /scratch3/projects/spiceracs/askap_pol_testing/cubes/cutouts/3C286/3C286.cutout.SB51997.3C286_45deg.beam3.u.cube.fixed.fits\n",
       "</pre>\n"
      ],
      "text/plain": [
       "13:59:26.247 | \u001b[36mINFO\u001b[0m    | arrakis - Written to /scratch3/projects/spiceracs/askap_pol_testing/cubes/cutouts/3C286/3C286.cutout.SB51997.3C286_45deg.beam3.u.cube.fixed.fits\n"
      ]
     },
     "metadata": {},
     "output_type": "display_data"
    },
    {
     "name": "stderr",
     "output_type": "stream",
     "text": [
      "\u001b[32;20mSPICE-INFO\u001b[0m 2024-02-15 13:59:26.301 cutout - cutout_image: Written to /scratch3/projects/spiceracs/askap_pol_testing/cubes/cutouts/3C286/3C286.cutout.SB51997.3C286_45deg.beam4.u.cube.fixed.fits\n"
     ]
    },
    {
     "data": {
      "text/html": [
       "<pre style=\"white-space:pre;overflow-x:auto;line-height:normal;font-family:Menlo,'DejaVu Sans Mono',consolas,'Courier New',monospace\">13:59:26.301 | <span style=\"color: #008080; text-decoration-color: #008080\">INFO</span>    | arrakis - Written to /scratch3/projects/spiceracs/askap_pol_testing/cubes/cutouts/3C286/3C286.cutout.SB51997.3C286_45deg.beam4.u.cube.fixed.fits\n",
       "</pre>\n"
      ],
      "text/plain": [
       "13:59:26.301 | \u001b[36mINFO\u001b[0m    | arrakis - Written to /scratch3/projects/spiceracs/askap_pol_testing/cubes/cutouts/3C286/3C286.cutout.SB51997.3C286_45deg.beam4.u.cube.fixed.fits\n"
      ]
     },
     "metadata": {},
     "output_type": "display_data"
    },
    {
     "name": "stderr",
     "output_type": "stream",
     "text": [
      "\u001b[32;20mSPICE-INFO\u001b[0m 2024-02-15 13:59:26.354 cutout - cutout_image: Written to /scratch3/projects/spiceracs/askap_pol_testing/cubes/cutouts/3C286/3C286.cutout.SB51997.3C286_45deg.beam5.u.cube.fixed.fits\n"
     ]
    },
    {
     "data": {
      "text/html": [
       "<pre style=\"white-space:pre;overflow-x:auto;line-height:normal;font-family:Menlo,'DejaVu Sans Mono',consolas,'Courier New',monospace\">13:59:26.354 | <span style=\"color: #008080; text-decoration-color: #008080\">INFO</span>    | arrakis - Written to /scratch3/projects/spiceracs/askap_pol_testing/cubes/cutouts/3C286/3C286.cutout.SB51997.3C286_45deg.beam5.u.cube.fixed.fits\n",
       "</pre>\n"
      ],
      "text/plain": [
       "13:59:26.354 | \u001b[36mINFO\u001b[0m    | arrakis - Written to /scratch3/projects/spiceracs/askap_pol_testing/cubes/cutouts/3C286/3C286.cutout.SB51997.3C286_45deg.beam5.u.cube.fixed.fits\n"
      ]
     },
     "metadata": {},
     "output_type": "display_data"
    },
    {
     "name": "stderr",
     "output_type": "stream",
     "text": [
      "\u001b[32;20mSPICE-INFO\u001b[0m 2024-02-15 13:59:26.654 cutout - cutout_image: Written to /scratch3/projects/spiceracs/askap_pol_testing/cubes/cutouts/3C286/3C286.cutout.SB51997.3C286_45deg.beam6.u.cube.fixed.fits\n"
     ]
    },
    {
     "data": {
      "text/html": [
       "<pre style=\"white-space:pre;overflow-x:auto;line-height:normal;font-family:Menlo,'DejaVu Sans Mono',consolas,'Courier New',monospace\">13:59:26.654 | <span style=\"color: #008080; text-decoration-color: #008080\">INFO</span>    | arrakis - Written to /scratch3/projects/spiceracs/askap_pol_testing/cubes/cutouts/3C286/3C286.cutout.SB51997.3C286_45deg.beam6.u.cube.fixed.fits\n",
       "</pre>\n"
      ],
      "text/plain": [
       "13:59:26.654 | \u001b[36mINFO\u001b[0m    | arrakis - Written to /scratch3/projects/spiceracs/askap_pol_testing/cubes/cutouts/3C286/3C286.cutout.SB51997.3C286_45deg.beam6.u.cube.fixed.fits\n"
      ]
     },
     "metadata": {},
     "output_type": "display_data"
    },
    {
     "name": "stderr",
     "output_type": "stream",
     "text": [
      "\u001b[32;20mSPICE-INFO\u001b[0m 2024-02-15 13:59:26.710 cutout - cutout_image: Written to /scratch3/projects/spiceracs/askap_pol_testing/cubes/cutouts/3C286/3C286.cutout.SB51997.3C286_45deg.beam7.u.cube.fixed.fits\n"
     ]
    },
    {
     "data": {
      "text/html": [
       "<pre style=\"white-space:pre;overflow-x:auto;line-height:normal;font-family:Menlo,'DejaVu Sans Mono',consolas,'Courier New',monospace\">13:59:26.710 | <span style=\"color: #008080; text-decoration-color: #008080\">INFO</span>    | arrakis - Written to /scratch3/projects/spiceracs/askap_pol_testing/cubes/cutouts/3C286/3C286.cutout.SB51997.3C286_45deg.beam7.u.cube.fixed.fits\n",
       "</pre>\n"
      ],
      "text/plain": [
       "13:59:26.710 | \u001b[36mINFO\u001b[0m    | arrakis - Written to /scratch3/projects/spiceracs/askap_pol_testing/cubes/cutouts/3C286/3C286.cutout.SB51997.3C286_45deg.beam7.u.cube.fixed.fits\n"
      ]
     },
     "metadata": {},
     "output_type": "display_data"
    },
    {
     "name": "stderr",
     "output_type": "stream",
     "text": [
      "\u001b[32;20mSPICE-INFO\u001b[0m 2024-02-15 13:59:26.762 cutout - cutout_image: Written to /scratch3/projects/spiceracs/askap_pol_testing/cubes/cutouts/3C286/3C286.cutout.SB51997.3C286_45deg.beam8.u.cube.fixed.fits\n"
     ]
    },
    {
     "data": {
      "text/html": [
       "<pre style=\"white-space:pre;overflow-x:auto;line-height:normal;font-family:Menlo,'DejaVu Sans Mono',consolas,'Courier New',monospace\">13:59:26.762 | <span style=\"color: #008080; text-decoration-color: #008080\">INFO</span>    | arrakis - Written to /scratch3/projects/spiceracs/askap_pol_testing/cubes/cutouts/3C286/3C286.cutout.SB51997.3C286_45deg.beam8.u.cube.fixed.fits\n",
       "</pre>\n"
      ],
      "text/plain": [
       "13:59:26.762 | \u001b[36mINFO\u001b[0m    | arrakis - Written to /scratch3/projects/spiceracs/askap_pol_testing/cubes/cutouts/3C286/3C286.cutout.SB51997.3C286_45deg.beam8.u.cube.fixed.fits\n"
      ]
     },
     "metadata": {},
     "output_type": "display_data"
    },
    {
     "name": "stderr",
     "output_type": "stream",
     "text": [
      "\u001b[32;20mSPICE-INFO\u001b[0m 2024-02-15 13:59:26.815 cutout - cutout_image: Written to /scratch3/projects/spiceracs/askap_pol_testing/cubes/cutouts/3C286/3C286.cutout.SB51997.3C286_45deg.beam9.u.cube.fixed.fits\n"
     ]
    },
    {
     "data": {
      "text/html": [
       "<pre style=\"white-space:pre;overflow-x:auto;line-height:normal;font-family:Menlo,'DejaVu Sans Mono',consolas,'Courier New',monospace\">13:59:26.815 | <span style=\"color: #008080; text-decoration-color: #008080\">INFO</span>    | arrakis - Written to /scratch3/projects/spiceracs/askap_pol_testing/cubes/cutouts/3C286/3C286.cutout.SB51997.3C286_45deg.beam9.u.cube.fixed.fits\n",
       "</pre>\n"
      ],
      "text/plain": [
       "13:59:26.815 | \u001b[36mINFO\u001b[0m    | arrakis - Written to /scratch3/projects/spiceracs/askap_pol_testing/cubes/cutouts/3C286/3C286.cutout.SB51997.3C286_45deg.beam9.u.cube.fixed.fits\n"
      ]
     },
     "metadata": {},
     "output_type": "display_data"
    },
    {
     "name": "stderr",
     "output_type": "stream",
     "text": [
      "\u001b[32;20mSPICE-INFO\u001b[0m 2024-02-15 13:59:26.867 cutout - cutout_image: Written to /scratch3/projects/spiceracs/askap_pol_testing/cubes/cutouts/3C286/3C286.cutout.SB51997.3C286_45deg.beam10.u.cube.fixed.fits\n"
     ]
    },
    {
     "data": {
      "text/html": [
       "<pre style=\"white-space:pre;overflow-x:auto;line-height:normal;font-family:Menlo,'DejaVu Sans Mono',consolas,'Courier New',monospace\">13:59:26.867 | <span style=\"color: #008080; text-decoration-color: #008080\">INFO</span>    | arrakis - Written to /scratch3/projects/spiceracs/askap_pol_testing/cubes/cutouts/3C286/3C286.cutout.SB51997.3C286_45deg.beam10.u.cube.fixed.fits\n",
       "</pre>\n"
      ],
      "text/plain": [
       "13:59:26.867 | \u001b[36mINFO\u001b[0m    | arrakis - Written to /scratch3/projects/spiceracs/askap_pol_testing/cubes/cutouts/3C286/3C286.cutout.SB51997.3C286_45deg.beam10.u.cube.fixed.fits\n"
      ]
     },
     "metadata": {},
     "output_type": "display_data"
    },
    {
     "name": "stderr",
     "output_type": "stream",
     "text": [
      "\u001b[32;20mSPICE-INFO\u001b[0m 2024-02-15 13:59:26.919 cutout - cutout_image: Written to /scratch3/projects/spiceracs/askap_pol_testing/cubes/cutouts/3C286/3C286.cutout.SB51997.3C286_45deg.beam11.u.cube.fixed.fits\n"
     ]
    },
    {
     "data": {
      "text/html": [
       "<pre style=\"white-space:pre;overflow-x:auto;line-height:normal;font-family:Menlo,'DejaVu Sans Mono',consolas,'Courier New',monospace\">13:59:26.919 | <span style=\"color: #008080; text-decoration-color: #008080\">INFO</span>    | arrakis - Written to /scratch3/projects/spiceracs/askap_pol_testing/cubes/cutouts/3C286/3C286.cutout.SB51997.3C286_45deg.beam11.u.cube.fixed.fits\n",
       "</pre>\n"
      ],
      "text/plain": [
       "13:59:26.919 | \u001b[36mINFO\u001b[0m    | arrakis - Written to /scratch3/projects/spiceracs/askap_pol_testing/cubes/cutouts/3C286/3C286.cutout.SB51997.3C286_45deg.beam11.u.cube.fixed.fits\n"
      ]
     },
     "metadata": {},
     "output_type": "display_data"
    },
    {
     "name": "stderr",
     "output_type": "stream",
     "text": [
      "\u001b[32;20mSPICE-INFO\u001b[0m 2024-02-15 13:59:27.220 cutout - cutout_image: Written to /scratch3/projects/spiceracs/askap_pol_testing/cubes/cutouts/3C286/3C286.cutout.SB51997.3C286_45deg.beam12.u.cube.fixed.fits\n"
     ]
    },
    {
     "data": {
      "text/html": [
       "<pre style=\"white-space:pre;overflow-x:auto;line-height:normal;font-family:Menlo,'DejaVu Sans Mono',consolas,'Courier New',monospace\">13:59:27.220 | <span style=\"color: #008080; text-decoration-color: #008080\">INFO</span>    | arrakis - Written to /scratch3/projects/spiceracs/askap_pol_testing/cubes/cutouts/3C286/3C286.cutout.SB51997.3C286_45deg.beam12.u.cube.fixed.fits\n",
       "</pre>\n"
      ],
      "text/plain": [
       "13:59:27.220 | \u001b[36mINFO\u001b[0m    | arrakis - Written to /scratch3/projects/spiceracs/askap_pol_testing/cubes/cutouts/3C286/3C286.cutout.SB51997.3C286_45deg.beam12.u.cube.fixed.fits\n"
      ]
     },
     "metadata": {},
     "output_type": "display_data"
    },
    {
     "name": "stderr",
     "output_type": "stream",
     "text": [
      "\u001b[32;20mSPICE-INFO\u001b[0m 2024-02-15 13:59:27.608 cutout - cutout_image: Written to /scratch3/projects/spiceracs/askap_pol_testing/cubes/cutouts/3C286/3C286.cutout.SB51997.3C286_45deg.beam13.u.cube.fixed.fits\n"
     ]
    },
    {
     "data": {
      "text/html": [
       "<pre style=\"white-space:pre;overflow-x:auto;line-height:normal;font-family:Menlo,'DejaVu Sans Mono',consolas,'Courier New',monospace\">13:59:27.608 | <span style=\"color: #008080; text-decoration-color: #008080\">INFO</span>    | arrakis - Written to /scratch3/projects/spiceracs/askap_pol_testing/cubes/cutouts/3C286/3C286.cutout.SB51997.3C286_45deg.beam13.u.cube.fixed.fits\n",
       "</pre>\n"
      ],
      "text/plain": [
       "13:59:27.608 | \u001b[36mINFO\u001b[0m    | arrakis - Written to /scratch3/projects/spiceracs/askap_pol_testing/cubes/cutouts/3C286/3C286.cutout.SB51997.3C286_45deg.beam13.u.cube.fixed.fits\n"
      ]
     },
     "metadata": {},
     "output_type": "display_data"
    },
    {
     "name": "stderr",
     "output_type": "stream",
     "text": [
      "\u001b[32;20mSPICE-INFO\u001b[0m 2024-02-15 13:59:27.665 cutout - cutout_image: Written to /scratch3/projects/spiceracs/askap_pol_testing/cubes/cutouts/3C286/3C286.cutout.SB51997.3C286_45deg.beam14.u.cube.fixed.fits\n"
     ]
    },
    {
     "data": {
      "text/html": [
       "<pre style=\"white-space:pre;overflow-x:auto;line-height:normal;font-family:Menlo,'DejaVu Sans Mono',consolas,'Courier New',monospace\">13:59:27.665 | <span style=\"color: #008080; text-decoration-color: #008080\">INFO</span>    | arrakis - Written to /scratch3/projects/spiceracs/askap_pol_testing/cubes/cutouts/3C286/3C286.cutout.SB51997.3C286_45deg.beam14.u.cube.fixed.fits\n",
       "</pre>\n"
      ],
      "text/plain": [
       "13:59:27.665 | \u001b[36mINFO\u001b[0m    | arrakis - Written to /scratch3/projects/spiceracs/askap_pol_testing/cubes/cutouts/3C286/3C286.cutout.SB51997.3C286_45deg.beam14.u.cube.fixed.fits\n"
      ]
     },
     "metadata": {},
     "output_type": "display_data"
    },
    {
     "name": "stderr",
     "output_type": "stream",
     "text": [
      "\u001b[32;20mSPICE-INFO\u001b[0m 2024-02-15 13:59:27.719 cutout - cutout_image: Written to /scratch3/projects/spiceracs/askap_pol_testing/cubes/cutouts/3C286/3C286.cutout.SB51997.3C286_45deg.beam15.u.cube.fixed.fits\n"
     ]
    },
    {
     "data": {
      "text/html": [
       "<pre style=\"white-space:pre;overflow-x:auto;line-height:normal;font-family:Menlo,'DejaVu Sans Mono',consolas,'Courier New',monospace\">13:59:27.719 | <span style=\"color: #008080; text-decoration-color: #008080\">INFO</span>    | arrakis - Written to /scratch3/projects/spiceracs/askap_pol_testing/cubes/cutouts/3C286/3C286.cutout.SB51997.3C286_45deg.beam15.u.cube.fixed.fits\n",
       "</pre>\n"
      ],
      "text/plain": [
       "13:59:27.719 | \u001b[36mINFO\u001b[0m    | arrakis - Written to /scratch3/projects/spiceracs/askap_pol_testing/cubes/cutouts/3C286/3C286.cutout.SB51997.3C286_45deg.beam15.u.cube.fixed.fits\n"
      ]
     },
     "metadata": {},
     "output_type": "display_data"
    },
    {
     "name": "stderr",
     "output_type": "stream",
     "text": [
      "\u001b[32;20mSPICE-INFO\u001b[0m 2024-02-15 13:59:27.772 cutout - cutout_image: Written to /scratch3/projects/spiceracs/askap_pol_testing/cubes/cutouts/3C286/3C286.cutout.SB51997.3C286_45deg.beam16.u.cube.fixed.fits\n"
     ]
    },
    {
     "data": {
      "text/html": [
       "<pre style=\"white-space:pre;overflow-x:auto;line-height:normal;font-family:Menlo,'DejaVu Sans Mono',consolas,'Courier New',monospace\">13:59:27.772 | <span style=\"color: #008080; text-decoration-color: #008080\">INFO</span>    | arrakis - Written to /scratch3/projects/spiceracs/askap_pol_testing/cubes/cutouts/3C286/3C286.cutout.SB51997.3C286_45deg.beam16.u.cube.fixed.fits\n",
       "</pre>\n"
      ],
      "text/plain": [
       "13:59:27.772 | \u001b[36mINFO\u001b[0m    | arrakis - Written to /scratch3/projects/spiceracs/askap_pol_testing/cubes/cutouts/3C286/3C286.cutout.SB51997.3C286_45deg.beam16.u.cube.fixed.fits\n"
      ]
     },
     "metadata": {},
     "output_type": "display_data"
    },
    {
     "name": "stderr",
     "output_type": "stream",
     "text": [
      "\u001b[32;20mSPICE-INFO\u001b[0m 2024-02-15 13:59:27.826 cutout - cutout_image: Written to /scratch3/projects/spiceracs/askap_pol_testing/cubes/cutouts/3C286/3C286.cutout.SB51997.3C286_45deg.beam17.u.cube.fixed.fits\n"
     ]
    },
    {
     "data": {
      "text/html": [
       "<pre style=\"white-space:pre;overflow-x:auto;line-height:normal;font-family:Menlo,'DejaVu Sans Mono',consolas,'Courier New',monospace\">13:59:27.826 | <span style=\"color: #008080; text-decoration-color: #008080\">INFO</span>    | arrakis - Written to /scratch3/projects/spiceracs/askap_pol_testing/cubes/cutouts/3C286/3C286.cutout.SB51997.3C286_45deg.beam17.u.cube.fixed.fits\n",
       "</pre>\n"
      ],
      "text/plain": [
       "13:59:27.826 | \u001b[36mINFO\u001b[0m    | arrakis - Written to /scratch3/projects/spiceracs/askap_pol_testing/cubes/cutouts/3C286/3C286.cutout.SB51997.3C286_45deg.beam17.u.cube.fixed.fits\n"
      ]
     },
     "metadata": {},
     "output_type": "display_data"
    },
    {
     "name": "stderr",
     "output_type": "stream",
     "text": [
      "\u001b[32;20mSPICE-INFO\u001b[0m 2024-02-15 13:59:28.120 cutout - cutout_image: Written to /scratch3/projects/spiceracs/askap_pol_testing/cubes/cutouts/3C286/3C286.cutout.SB51997.3C286_45deg.beam18.u.cube.fixed.fits\n"
     ]
    },
    {
     "data": {
      "text/html": [
       "<pre style=\"white-space:pre;overflow-x:auto;line-height:normal;font-family:Menlo,'DejaVu Sans Mono',consolas,'Courier New',monospace\">13:59:28.120 | <span style=\"color: #008080; text-decoration-color: #008080\">INFO</span>    | arrakis - Written to /scratch3/projects/spiceracs/askap_pol_testing/cubes/cutouts/3C286/3C286.cutout.SB51997.3C286_45deg.beam18.u.cube.fixed.fits\n",
       "</pre>\n"
      ],
      "text/plain": [
       "13:59:28.120 | \u001b[36mINFO\u001b[0m    | arrakis - Written to /scratch3/projects/spiceracs/askap_pol_testing/cubes/cutouts/3C286/3C286.cutout.SB51997.3C286_45deg.beam18.u.cube.fixed.fits\n"
      ]
     },
     "metadata": {},
     "output_type": "display_data"
    },
    {
     "name": "stderr",
     "output_type": "stream",
     "text": [
      "\u001b[32;20mSPICE-INFO\u001b[0m 2024-02-15 13:59:28.179 cutout - cutout_image: Written to /scratch3/projects/spiceracs/askap_pol_testing/cubes/cutouts/3C286/3C286.cutout.SB51997.3C286_45deg.beam19.u.cube.fixed.fits\n"
     ]
    },
    {
     "data": {
      "text/html": [
       "<pre style=\"white-space:pre;overflow-x:auto;line-height:normal;font-family:Menlo,'DejaVu Sans Mono',consolas,'Courier New',monospace\">13:59:28.179 | <span style=\"color: #008080; text-decoration-color: #008080\">INFO</span>    | arrakis - Written to /scratch3/projects/spiceracs/askap_pol_testing/cubes/cutouts/3C286/3C286.cutout.SB51997.3C286_45deg.beam19.u.cube.fixed.fits\n",
       "</pre>\n"
      ],
      "text/plain": [
       "13:59:28.179 | \u001b[36mINFO\u001b[0m    | arrakis - Written to /scratch3/projects/spiceracs/askap_pol_testing/cubes/cutouts/3C286/3C286.cutout.SB51997.3C286_45deg.beam19.u.cube.fixed.fits\n"
      ]
     },
     "metadata": {},
     "output_type": "display_data"
    },
    {
     "name": "stderr",
     "output_type": "stream",
     "text": [
      "\u001b[32;20mSPICE-INFO\u001b[0m 2024-02-15 13:59:28.237 cutout - cutout_image: Written to /scratch3/projects/spiceracs/askap_pol_testing/cubes/cutouts/3C286/3C286.cutout.SB51997.3C286_45deg.beam20.u.cube.fixed.fits\n"
     ]
    },
    {
     "data": {
      "text/html": [
       "<pre style=\"white-space:pre;overflow-x:auto;line-height:normal;font-family:Menlo,'DejaVu Sans Mono',consolas,'Courier New',monospace\">13:59:28.237 | <span style=\"color: #008080; text-decoration-color: #008080\">INFO</span>    | arrakis - Written to /scratch3/projects/spiceracs/askap_pol_testing/cubes/cutouts/3C286/3C286.cutout.SB51997.3C286_45deg.beam20.u.cube.fixed.fits\n",
       "</pre>\n"
      ],
      "text/plain": [
       "13:59:28.237 | \u001b[36mINFO\u001b[0m    | arrakis - Written to /scratch3/projects/spiceracs/askap_pol_testing/cubes/cutouts/3C286/3C286.cutout.SB51997.3C286_45deg.beam20.u.cube.fixed.fits\n"
      ]
     },
     "metadata": {},
     "output_type": "display_data"
    },
    {
     "name": "stderr",
     "output_type": "stream",
     "text": [
      "\u001b[32;20mSPICE-INFO\u001b[0m 2024-02-15 13:59:28.292 cutout - cutout_image: Written to /scratch3/projects/spiceracs/askap_pol_testing/cubes/cutouts/3C286/3C286.cutout.SB51997.3C286_45deg.beam21.u.cube.fixed.fits\n"
     ]
    },
    {
     "data": {
      "text/html": [
       "<pre style=\"white-space:pre;overflow-x:auto;line-height:normal;font-family:Menlo,'DejaVu Sans Mono',consolas,'Courier New',monospace\">13:59:28.292 | <span style=\"color: #008080; text-decoration-color: #008080\">INFO</span>    | arrakis - Written to /scratch3/projects/spiceracs/askap_pol_testing/cubes/cutouts/3C286/3C286.cutout.SB51997.3C286_45deg.beam21.u.cube.fixed.fits\n",
       "</pre>\n"
      ],
      "text/plain": [
       "13:59:28.292 | \u001b[36mINFO\u001b[0m    | arrakis - Written to /scratch3/projects/spiceracs/askap_pol_testing/cubes/cutouts/3C286/3C286.cutout.SB51997.3C286_45deg.beam21.u.cube.fixed.fits\n"
      ]
     },
     "metadata": {},
     "output_type": "display_data"
    },
    {
     "name": "stderr",
     "output_type": "stream",
     "text": [
      "\u001b[32;20mSPICE-INFO\u001b[0m 2024-02-15 13:59:28.345 cutout - cutout_image: Written to /scratch3/projects/spiceracs/askap_pol_testing/cubes/cutouts/3C286/3C286.cutout.SB51997.3C286_45deg.beam22.u.cube.fixed.fits\n"
     ]
    },
    {
     "data": {
      "text/html": [
       "<pre style=\"white-space:pre;overflow-x:auto;line-height:normal;font-family:Menlo,'DejaVu Sans Mono',consolas,'Courier New',monospace\">13:59:28.345 | <span style=\"color: #008080; text-decoration-color: #008080\">INFO</span>    | arrakis - Written to /scratch3/projects/spiceracs/askap_pol_testing/cubes/cutouts/3C286/3C286.cutout.SB51997.3C286_45deg.beam22.u.cube.fixed.fits\n",
       "</pre>\n"
      ],
      "text/plain": [
       "13:59:28.345 | \u001b[36mINFO\u001b[0m    | arrakis - Written to /scratch3/projects/spiceracs/askap_pol_testing/cubes/cutouts/3C286/3C286.cutout.SB51997.3C286_45deg.beam22.u.cube.fixed.fits\n"
      ]
     },
     "metadata": {},
     "output_type": "display_data"
    },
    {
     "name": "stderr",
     "output_type": "stream",
     "text": [
      "\u001b[32;20mSPICE-INFO\u001b[0m 2024-02-15 13:59:28.399 cutout - cutout_image: Written to /scratch3/projects/spiceracs/askap_pol_testing/cubes/cutouts/3C286/3C286.cutout.SB51997.3C286_45deg.beam23.u.cube.fixed.fits\n"
     ]
    },
    {
     "data": {
      "text/html": [
       "<pre style=\"white-space:pre;overflow-x:auto;line-height:normal;font-family:Menlo,'DejaVu Sans Mono',consolas,'Courier New',monospace\">13:59:28.399 | <span style=\"color: #008080; text-decoration-color: #008080\">INFO</span>    | arrakis - Written to /scratch3/projects/spiceracs/askap_pol_testing/cubes/cutouts/3C286/3C286.cutout.SB51997.3C286_45deg.beam23.u.cube.fixed.fits\n",
       "</pre>\n"
      ],
      "text/plain": [
       "13:59:28.399 | \u001b[36mINFO\u001b[0m    | arrakis - Written to /scratch3/projects/spiceracs/askap_pol_testing/cubes/cutouts/3C286/3C286.cutout.SB51997.3C286_45deg.beam23.u.cube.fixed.fits\n"
      ]
     },
     "metadata": {},
     "output_type": "display_data"
    },
    {
     "name": "stderr",
     "output_type": "stream",
     "text": [
      "\u001b[32;20mSPICE-INFO\u001b[0m 2024-02-15 13:59:28.889 cutout - cutout_image: Written to /scratch3/projects/spiceracs/askap_pol_testing/cubes/cutouts/3C286/3C286.cutout.SB51997.3C286_45deg.beam24.u.cube.fixed.fits\n"
     ]
    },
    {
     "data": {
      "text/html": [
       "<pre style=\"white-space:pre;overflow-x:auto;line-height:normal;font-family:Menlo,'DejaVu Sans Mono',consolas,'Courier New',monospace\">13:59:28.889 | <span style=\"color: #008080; text-decoration-color: #008080\">INFO</span>    | arrakis - Written to /scratch3/projects/spiceracs/askap_pol_testing/cubes/cutouts/3C286/3C286.cutout.SB51997.3C286_45deg.beam24.u.cube.fixed.fits\n",
       "</pre>\n"
      ],
      "text/plain": [
       "13:59:28.889 | \u001b[36mINFO\u001b[0m    | arrakis - Written to /scratch3/projects/spiceracs/askap_pol_testing/cubes/cutouts/3C286/3C286.cutout.SB51997.3C286_45deg.beam24.u.cube.fixed.fits\n"
      ]
     },
     "metadata": {},
     "output_type": "display_data"
    },
    {
     "name": "stderr",
     "output_type": "stream",
     "text": [
      "\u001b[32;20mSPICE-INFO\u001b[0m 2024-02-15 13:59:29.355 cutout - cutout_image: Written to /scratch3/projects/spiceracs/askap_pol_testing/cubes/cutouts/3C286/3C286.cutout.SB51997.3C286_45deg.beam25.u.cube.fixed.fits\n"
     ]
    },
    {
     "data": {
      "text/html": [
       "<pre style=\"white-space:pre;overflow-x:auto;line-height:normal;font-family:Menlo,'DejaVu Sans Mono',consolas,'Courier New',monospace\">13:59:29.355 | <span style=\"color: #008080; text-decoration-color: #008080\">INFO</span>    | arrakis - Written to /scratch3/projects/spiceracs/askap_pol_testing/cubes/cutouts/3C286/3C286.cutout.SB51997.3C286_45deg.beam25.u.cube.fixed.fits\n",
       "</pre>\n"
      ],
      "text/plain": [
       "13:59:29.355 | \u001b[36mINFO\u001b[0m    | arrakis - Written to /scratch3/projects/spiceracs/askap_pol_testing/cubes/cutouts/3C286/3C286.cutout.SB51997.3C286_45deg.beam25.u.cube.fixed.fits\n"
      ]
     },
     "metadata": {},
     "output_type": "display_data"
    },
    {
     "name": "stderr",
     "output_type": "stream",
     "text": [
      "\u001b[32;20mSPICE-INFO\u001b[0m 2024-02-15 13:59:29.414 cutout - cutout_image: Written to /scratch3/projects/spiceracs/askap_pol_testing/cubes/cutouts/3C286/3C286.cutout.SB51997.3C286_45deg.beam26.u.cube.fixed.fits\n"
     ]
    },
    {
     "data": {
      "text/html": [
       "<pre style=\"white-space:pre;overflow-x:auto;line-height:normal;font-family:Menlo,'DejaVu Sans Mono',consolas,'Courier New',monospace\">13:59:29.414 | <span style=\"color: #008080; text-decoration-color: #008080\">INFO</span>    | arrakis - Written to /scratch3/projects/spiceracs/askap_pol_testing/cubes/cutouts/3C286/3C286.cutout.SB51997.3C286_45deg.beam26.u.cube.fixed.fits\n",
       "</pre>\n"
      ],
      "text/plain": [
       "13:59:29.414 | \u001b[36mINFO\u001b[0m    | arrakis - Written to /scratch3/projects/spiceracs/askap_pol_testing/cubes/cutouts/3C286/3C286.cutout.SB51997.3C286_45deg.beam26.u.cube.fixed.fits\n"
      ]
     },
     "metadata": {},
     "output_type": "display_data"
    },
    {
     "name": "stderr",
     "output_type": "stream",
     "text": [
      "\u001b[32;20mSPICE-INFO\u001b[0m 2024-02-15 13:59:29.467 cutout - cutout_image: Written to /scratch3/projects/spiceracs/askap_pol_testing/cubes/cutouts/3C286/3C286.cutout.SB51997.3C286_45deg.beam27.u.cube.fixed.fits\n"
     ]
    },
    {
     "data": {
      "text/html": [
       "<pre style=\"white-space:pre;overflow-x:auto;line-height:normal;font-family:Menlo,'DejaVu Sans Mono',consolas,'Courier New',monospace\">13:59:29.467 | <span style=\"color: #008080; text-decoration-color: #008080\">INFO</span>    | arrakis - Written to /scratch3/projects/spiceracs/askap_pol_testing/cubes/cutouts/3C286/3C286.cutout.SB51997.3C286_45deg.beam27.u.cube.fixed.fits\n",
       "</pre>\n"
      ],
      "text/plain": [
       "13:59:29.467 | \u001b[36mINFO\u001b[0m    | arrakis - Written to /scratch3/projects/spiceracs/askap_pol_testing/cubes/cutouts/3C286/3C286.cutout.SB51997.3C286_45deg.beam27.u.cube.fixed.fits\n"
      ]
     },
     "metadata": {},
     "output_type": "display_data"
    },
    {
     "name": "stderr",
     "output_type": "stream",
     "text": [
      "\u001b[32;20mSPICE-INFO\u001b[0m 2024-02-15 13:59:29.521 cutout - cutout_image: Written to /scratch3/projects/spiceracs/askap_pol_testing/cubes/cutouts/3C286/3C286.cutout.SB51997.3C286_45deg.beam28.u.cube.fixed.fits\n"
     ]
    },
    {
     "data": {
      "text/html": [
       "<pre style=\"white-space:pre;overflow-x:auto;line-height:normal;font-family:Menlo,'DejaVu Sans Mono',consolas,'Courier New',monospace\">13:59:29.521 | <span style=\"color: #008080; text-decoration-color: #008080\">INFO</span>    | arrakis - Written to /scratch3/projects/spiceracs/askap_pol_testing/cubes/cutouts/3C286/3C286.cutout.SB51997.3C286_45deg.beam28.u.cube.fixed.fits\n",
       "</pre>\n"
      ],
      "text/plain": [
       "13:59:29.521 | \u001b[36mINFO\u001b[0m    | arrakis - Written to /scratch3/projects/spiceracs/askap_pol_testing/cubes/cutouts/3C286/3C286.cutout.SB51997.3C286_45deg.beam28.u.cube.fixed.fits\n"
      ]
     },
     "metadata": {},
     "output_type": "display_data"
    },
    {
     "name": "stderr",
     "output_type": "stream",
     "text": [
      "\u001b[32;20mSPICE-INFO\u001b[0m 2024-02-15 13:59:29.579 cutout - cutout_image: Written to /scratch3/projects/spiceracs/askap_pol_testing/cubes/cutouts/3C286/3C286.cutout.SB51997.3C286_45deg.beam29.u.cube.fixed.fits\n"
     ]
    },
    {
     "data": {
      "text/html": [
       "<pre style=\"white-space:pre;overflow-x:auto;line-height:normal;font-family:Menlo,'DejaVu Sans Mono',consolas,'Courier New',monospace\">13:59:29.579 | <span style=\"color: #008080; text-decoration-color: #008080\">INFO</span>    | arrakis - Written to /scratch3/projects/spiceracs/askap_pol_testing/cubes/cutouts/3C286/3C286.cutout.SB51997.3C286_45deg.beam29.u.cube.fixed.fits\n",
       "</pre>\n"
      ],
      "text/plain": [
       "13:59:29.579 | \u001b[36mINFO\u001b[0m    | arrakis - Written to /scratch3/projects/spiceracs/askap_pol_testing/cubes/cutouts/3C286/3C286.cutout.SB51997.3C286_45deg.beam29.u.cube.fixed.fits\n"
      ]
     },
     "metadata": {},
     "output_type": "display_data"
    },
    {
     "name": "stderr",
     "output_type": "stream",
     "text": [
      "\u001b[32;20mSPICE-INFO\u001b[0m 2024-02-15 13:59:29.633 cutout - cutout_image: Written to /scratch3/projects/spiceracs/askap_pol_testing/cubes/cutouts/3C286/3C286.cutout.SB51997.3C286_45deg.beam30.u.cube.fixed.fits\n"
     ]
    },
    {
     "data": {
      "text/html": [
       "<pre style=\"white-space:pre;overflow-x:auto;line-height:normal;font-family:Menlo,'DejaVu Sans Mono',consolas,'Courier New',monospace\">13:59:29.633 | <span style=\"color: #008080; text-decoration-color: #008080\">INFO</span>    | arrakis - Written to /scratch3/projects/spiceracs/askap_pol_testing/cubes/cutouts/3C286/3C286.cutout.SB51997.3C286_45deg.beam30.u.cube.fixed.fits\n",
       "</pre>\n"
      ],
      "text/plain": [
       "13:59:29.633 | \u001b[36mINFO\u001b[0m    | arrakis - Written to /scratch3/projects/spiceracs/askap_pol_testing/cubes/cutouts/3C286/3C286.cutout.SB51997.3C286_45deg.beam30.u.cube.fixed.fits\n"
      ]
     },
     "metadata": {},
     "output_type": "display_data"
    },
    {
     "name": "stderr",
     "output_type": "stream",
     "text": [
      "\u001b[32;20mSPICE-INFO\u001b[0m 2024-02-15 13:59:29.691 cutout - cutout_image: Written to /scratch3/projects/spiceracs/askap_pol_testing/cubes/cutouts/3C286/3C286.cutout.SB51997.3C286_45deg.beam32.u.cube.fixed.fits\n"
     ]
    },
    {
     "name": "stdout",
     "output_type": "stream",
     "text": [
      "Failed for SB51997.3C286_45deg.beam31.u.cube.fixed.fits: [Errno 2] No such file or directory: 'SB51997.3C286_45deg.beam31.u.cube.fixed.fits'\n"
     ]
    },
    {
     "data": {
      "text/html": [
       "<pre style=\"white-space:pre;overflow-x:auto;line-height:normal;font-family:Menlo,'DejaVu Sans Mono',consolas,'Courier New',monospace\">13:59:29.691 | <span style=\"color: #008080; text-decoration-color: #008080\">INFO</span>    | arrakis - Written to /scratch3/projects/spiceracs/askap_pol_testing/cubes/cutouts/3C286/3C286.cutout.SB51997.3C286_45deg.beam32.u.cube.fixed.fits\n",
       "</pre>\n"
      ],
      "text/plain": [
       "13:59:29.691 | \u001b[36mINFO\u001b[0m    | arrakis - Written to /scratch3/projects/spiceracs/askap_pol_testing/cubes/cutouts/3C286/3C286.cutout.SB51997.3C286_45deg.beam32.u.cube.fixed.fits\n"
      ]
     },
     "metadata": {},
     "output_type": "display_data"
    },
    {
     "name": "stderr",
     "output_type": "stream",
     "text": [
      "\u001b[32;20mSPICE-INFO\u001b[0m 2024-02-15 13:59:29.745 cutout - cutout_image: Written to /scratch3/projects/spiceracs/askap_pol_testing/cubes/cutouts/3C286/3C286.cutout.SB51997.3C286_45deg.beam33.u.cube.fixed.fits\n"
     ]
    },
    {
     "data": {
      "text/html": [
       "<pre style=\"white-space:pre;overflow-x:auto;line-height:normal;font-family:Menlo,'DejaVu Sans Mono',consolas,'Courier New',monospace\">13:59:29.745 | <span style=\"color: #008080; text-decoration-color: #008080\">INFO</span>    | arrakis - Written to /scratch3/projects/spiceracs/askap_pol_testing/cubes/cutouts/3C286/3C286.cutout.SB51997.3C286_45deg.beam33.u.cube.fixed.fits\n",
       "</pre>\n"
      ],
      "text/plain": [
       "13:59:29.745 | \u001b[36mINFO\u001b[0m    | arrakis - Written to /scratch3/projects/spiceracs/askap_pol_testing/cubes/cutouts/3C286/3C286.cutout.SB51997.3C286_45deg.beam33.u.cube.fixed.fits\n"
      ]
     },
     "metadata": {},
     "output_type": "display_data"
    },
    {
     "name": "stderr",
     "output_type": "stream",
     "text": [
      "\u001b[32;20mSPICE-INFO\u001b[0m 2024-02-15 13:59:29.798 cutout - cutout_image: Written to /scratch3/projects/spiceracs/askap_pol_testing/cubes/cutouts/3C286/3C286.cutout.SB51997.3C286_45deg.beam34.u.cube.fixed.fits\n"
     ]
    },
    {
     "data": {
      "text/html": [
       "<pre style=\"white-space:pre;overflow-x:auto;line-height:normal;font-family:Menlo,'DejaVu Sans Mono',consolas,'Courier New',monospace\">13:59:29.798 | <span style=\"color: #008080; text-decoration-color: #008080\">INFO</span>    | arrakis - Written to /scratch3/projects/spiceracs/askap_pol_testing/cubes/cutouts/3C286/3C286.cutout.SB51997.3C286_45deg.beam34.u.cube.fixed.fits\n",
       "</pre>\n"
      ],
      "text/plain": [
       "13:59:29.798 | \u001b[36mINFO\u001b[0m    | arrakis - Written to /scratch3/projects/spiceracs/askap_pol_testing/cubes/cutouts/3C286/3C286.cutout.SB51997.3C286_45deg.beam34.u.cube.fixed.fits\n"
      ]
     },
     "metadata": {},
     "output_type": "display_data"
    },
    {
     "name": "stderr",
     "output_type": "stream",
     "text": [
      "\u001b[32;20mSPICE-INFO\u001b[0m 2024-02-15 13:59:29.850 cutout - cutout_image: Written to /scratch3/projects/spiceracs/askap_pol_testing/cubes/cutouts/3C286/3C286.cutout.SB51997.3C286_45deg.beam35.u.cube.fixed.fits\n"
     ]
    },
    {
     "data": {
      "text/html": [
       "<pre style=\"white-space:pre;overflow-x:auto;line-height:normal;font-family:Menlo,'DejaVu Sans Mono',consolas,'Courier New',monospace\">13:59:29.850 | <span style=\"color: #008080; text-decoration-color: #008080\">INFO</span>    | arrakis - Written to /scratch3/projects/spiceracs/askap_pol_testing/cubes/cutouts/3C286/3C286.cutout.SB51997.3C286_45deg.beam35.u.cube.fixed.fits\n",
       "</pre>\n"
      ],
      "text/plain": [
       "13:59:29.850 | \u001b[36mINFO\u001b[0m    | arrakis - Written to /scratch3/projects/spiceracs/askap_pol_testing/cubes/cutouts/3C286/3C286.cutout.SB51997.3C286_45deg.beam35.u.cube.fixed.fits\n"
      ]
     },
     "metadata": {},
     "output_type": "display_data"
    }
   ],
   "source": [
    "updates = {}\n",
    "w_updates = {}\n",
    "for stokes in \"iqu\":\n",
    "    updates[stokes] = {}\n",
    "    w_updates[stokes] = {}\n",
    "    for beam in range(36):\n",
    "        image_name = f\"SB51997.3C286_45deg.beam{beam}.{stokes}.cube.fixed.fits\"\n",
    "        try:\n",
    "            update = cutout_image(\n",
    "                image_name=image_name,\n",
    "                data_in_mem=fits.getdata(image_name),\n",
    "                old_header=fits.getheader(image_name),\n",
    "                cube=SpectralCube.read(image_name),\n",
    "                source_id=\"3C286\",\n",
    "                cutout_args=cutout_args,\n",
    "                field=\"3C286\",\n",
    "                beam_num=beam,\n",
    "                stoke=stokes,\n",
    "                pad=3,\n",
    "            )\n",
    "            doc = update._doc\n",
    "            old_name = doc[\"$set\"][f\"beams.3C286.{stokes}_beam{beam}_image_file\"]\n",
    "            new_name = doc[\"$set\"][f\"beams.3C286.{stokes}_beam{beam}_image_file\"].replace(f\".{stokes}.\",\".\").replace(\".cutout.\", f\".cutout.{stokes}.\")\n",
    "            os.rename(Path(cutout_args.outdir).parent /old_name, Path(cutout_args.outdir).parent / new_name)\n",
    "            doc[\"$set\"][f\"beams.3C286.{stokes}_beam{beam}_image_file\"] = new_name\n",
    "            update.__setattr__(\"_doc\", doc)\n",
    "            w_update = cutout_weight(\n",
    "                image_name=image_name,\n",
    "                source_id=\"3C286\",\n",
    "                cutout_args=cutout_args,\n",
    "                field=\"3C286\",\n",
    "                stoke=stokes,\n",
    "                beam_num=beam,\n",
    "                dryrun=True,\n",
    "            )\n",
    "        except Exception as e:\n",
    "            print(f\"Failed for {image_name}: {e}\")\n",
    "            continue\n",
    "        updates[stokes][beam] = update\n",
    "        w_updates[stokes][beam] = w_update"
   ]
  },
  {
   "cell_type": "code",
   "execution_count": 37,
   "metadata": {},
   "outputs": [
    {
     "data": {
      "text/plain": [
       "{'$set': {'beams.3C286.i_beam0_image_file': '3C286/3C286.cutout.i.SB51997.3C286_45deg.beam0.cube.fixed.fits'}}"
      ]
     },
     "execution_count": 37,
     "metadata": {},
     "output_type": "execute_result"
    }
   ],
   "source": [
    "updates[\"i\"][0]._doc"
   ]
  },
  {
   "cell_type": "code",
   "execution_count": null,
   "metadata": {},
   "outputs": [],
   "source": []
  },
  {
   "cell_type": "code",
   "execution_count": 38,
   "metadata": {},
   "outputs": [],
   "source": [
    "for stokes in \"iqu\":\n",
    "    for beam in range(36):\n",
    "        try:\n",
    "            old_name = w_updates[stokes][beam]._doc[\"$set\"][f\"beams.3C286.{stokes}_beam{beam}_weight_file\"]\n",
    "            new_name = w_updates[stokes][beam]._doc[\"$set\"][f\"beams.3C286.{stokes}_beam{beam}_weight_file\"].replace(\".cutout.\", \".cutout.weights.\")\n",
    "            weight_file = Path(\"/scratch3/projects/spiceracs/askap_pol_testing/cubes/cutouts\") / new_name\n",
    "            w_updates[stokes][beam]._doc[\"$set\"][f\"beams.3C286.{stokes}_beam{beam}_weight_file\"] = new_name\n",
    "        except KeyError:\n",
    "            continue\n",
    "        if not weight_file.exists():\n",
    "            with open(weight_file, \"w\") as f:\n",
    "                f.write(\"# Channel Weight\\n\")\n",
    "                for chan in range(36):\n",
    "                    f.write(f\"{chan} 1.0\\n\")"
   ]
  },
  {
   "cell_type": "code",
   "execution_count": 39,
   "metadata": {},
   "outputs": [
    {
     "data": {
      "text/plain": [
       "'3C286/3C286.cutout.weights.SB51997.3C286_45deg.beam0.i.cube.fixed.txt'"
      ]
     },
     "execution_count": 39,
     "metadata": {},
     "output_type": "execute_result"
    }
   ],
   "source": [
    "w_updates[\"i\"][0]._doc[\"$set\"][\"beams.3C286.i_beam0_weight_file\"]"
   ]
  },
  {
   "cell_type": "code",
   "execution_count": 40,
   "metadata": {},
   "outputs": [],
   "source": [
    "beams_dict = dict(\n",
    "        Source_ID=\"3C286\", \n",
    "        beams={\n",
    "            \"3C286\": {\n",
    "                \"beam_list\": [1,6],\n",
    "                f\"i_beam0_image_file\": updates[\"i\"][0]._doc[\"$set\"][\"beams.3C286.i_beam0_image_file\"],\n",
    "                f\"i_beam1_image_file\": updates[\"i\"][1]._doc[\"$set\"][\"beams.3C286.i_beam1_image_file\"],\n",
    "                f\"i_beam6_image_file\": updates[\"i\"][6]._doc[\"$set\"][\"beams.3C286.i_beam6_image_file\"],\n",
    "                f\"q_beam0_image_file\": updates[\"q\"][0]._doc[\"$set\"][\"beams.3C286.q_beam0_image_file\"],\n",
    "                f\"q_beam1_image_file\": updates[\"q\"][1]._doc[\"$set\"][\"beams.3C286.q_beam1_image_file\"],\n",
    "                f\"q_beam6_image_file\": updates[\"q\"][6]._doc[\"$set\"][\"beams.3C286.q_beam6_image_file\"],\n",
    "                f\"u_beam0_image_file\": updates[\"u\"][0]._doc[\"$set\"][\"beams.3C286.u_beam0_image_file\"],\n",
    "                f\"u_beam1_image_file\": updates[\"u\"][1]._doc[\"$set\"][\"beams.3C286.u_beam1_image_file\"],\n",
    "                f\"u_beam6_image_file\": updates[\"u\"][6]._doc[\"$set\"][\"beams.3C286.u_beam6_image_file\"],\n",
    "                f\"i_beam0_weight_file\": w_updates[\"i\"][0]._doc[\"$set\"][\"beams.3C286.i_beam0_weight_file\"],\n",
    "                f\"i_beam1_weight_file\": w_updates[\"i\"][1]._doc[\"$set\"][\"beams.3C286.i_beam1_weight_file\"],\n",
    "                f\"i_beam6_weight_file\": w_updates[\"i\"][6]._doc[\"$set\"][\"beams.3C286.i_beam6_weight_file\"],\n",
    "                f\"q_beam0_weight_file\": w_updates[\"q\"][0]._doc[\"$set\"][\"beams.3C286.q_beam0_weight_file\"],\n",
    "                f\"q_beam1_weight_file\": w_updates[\"q\"][1]._doc[\"$set\"][\"beams.3C286.q_beam1_weight_file\"],\n",
    "                f\"q_beam6_weight_file\": w_updates[\"q\"][6]._doc[\"$set\"][\"beams.3C286.q_beam6_weight_file\"],\n",
    "                f\"u_beam0_weight_file\": w_updates[\"u\"][0]._doc[\"$set\"][\"beams.3C286.u_beam0_weight_file\"],\n",
    "                f\"u_beam1_weight_file\": w_updates[\"u\"][1]._doc[\"$set\"][\"beams.3C286.u_beam1_weight_file\"],\n",
    "                f\"u_beam6_weight_file\": w_updates[\"u\"][6]._doc[\"$set\"][\"beams.3C286.u_beam6_weight_file\"],\n",
    "                \n",
    "            }\n",
    "        }\n",
    ")"
   ]
  },
  {
   "cell_type": "code",
   "execution_count": 41,
   "metadata": {},
   "outputs": [
    {
     "name": "stdout",
     "output_type": "stream",
     "text": [
      "/apps/singularity/3.8.7/bin/singularity\n"
     ]
    }
   ],
   "source": [
    "!which singularity"
   ]
  },
  {
   "cell_type": "code",
   "execution_count": 42,
   "metadata": {},
   "outputs": [
    {
     "name": "stderr",
     "output_type": "stream",
     "text": [
      "\u001b[32;20mSPICE-INFO\u001b[0m 2024-02-15 13:59:58.257 linmos - genparset: Using holography file /scratch3/projects/spiceracs/akpb.iquv.closepack36.54.943MHz.SB51811.cube.fits -- setting removeleakge to true\n"
     ]
    },
    {
     "data": {
      "text/html": [
       "<pre style=\"white-space:pre;overflow-x:auto;line-height:normal;font-family:Menlo,'DejaVu Sans Mono',consolas,'Courier New',monospace\">13:59:58.257 | <span style=\"color: #008080; text-decoration-color: #008080\">INFO</span>    | arrakis - Using holography file /scratch3/projects/spiceracs/akpb.iquv.closepack36.54.943MHz.SB51811.cube.fits -- setting removeleakge to true\n",
       "</pre>\n"
      ],
      "text/plain": [
       "13:59:58.257 | \u001b[36mINFO\u001b[0m    | arrakis - Using holography file /scratch3/projects/spiceracs/akpb.iquv.closepack36.54.943MHz.SB51811.cube.fits -- setting removeleakge to true\n"
      ]
     },
     "metadata": {},
     "output_type": "display_data"
    },
    {
     "name": "stderr",
     "output_type": "stream",
     "text": [
      "\u001b[32;20mSPICE-INFO\u001b[0m 2024-02-15 13:59:59.489 linmos - genparset: Using holography file /scratch3/projects/spiceracs/akpb.iquv.closepack36.54.943MHz.SB51811.cube.fits -- setting removeleakge to true\n"
     ]
    },
    {
     "name": "stdout",
     "output_type": "stream",
     "text": [
      "Failed for i: LINMOS file not found! -- check /scratch3/projects/spiceracs/askap_pol_testing/cubes/cutouts/3C286/linmos_i.log?\n"
     ]
    },
    {
     "data": {
      "text/html": [
       "<pre style=\"white-space:pre;overflow-x:auto;line-height:normal;font-family:Menlo,'DejaVu Sans Mono',consolas,'Courier New',monospace\">13:59:59.489 | <span style=\"color: #008080; text-decoration-color: #008080\">INFO</span>    | arrakis - Using holography file /scratch3/projects/spiceracs/akpb.iquv.closepack36.54.943MHz.SB51811.cube.fits -- setting removeleakge to true\n",
       "</pre>\n"
      ],
      "text/plain": [
       "13:59:59.489 | \u001b[36mINFO\u001b[0m    | arrakis - Using holography file /scratch3/projects/spiceracs/akpb.iquv.closepack36.54.943MHz.SB51811.cube.fits -- setting removeleakge to true\n"
      ]
     },
     "metadata": {},
     "output_type": "display_data"
    },
    {
     "name": "stderr",
     "output_type": "stream",
     "text": [
      "\u001b[32;20mSPICE-INFO\u001b[0m 2024-02-15 14:00:01.018 linmos - genparset: Using holography file /scratch3/projects/spiceracs/akpb.iquv.closepack36.54.943MHz.SB51811.cube.fits -- setting removeleakge to true\n"
     ]
    },
    {
     "name": "stdout",
     "output_type": "stream",
     "text": [
      "Failed for q: LINMOS file not found! -- check /scratch3/projects/spiceracs/askap_pol_testing/cubes/cutouts/3C286/linmos_q.log?\n"
     ]
    },
    {
     "data": {
      "text/html": [
       "<pre style=\"white-space:pre;overflow-x:auto;line-height:normal;font-family:Menlo,'DejaVu Sans Mono',consolas,'Courier New',monospace\">14:00:01.018 | <span style=\"color: #008080; text-decoration-color: #008080\">INFO</span>    | arrakis - Using holography file /scratch3/projects/spiceracs/akpb.iquv.closepack36.54.943MHz.SB51811.cube.fits -- setting removeleakge to true\n",
       "</pre>\n"
      ],
      "text/plain": [
       "14:00:01.018 | \u001b[36mINFO\u001b[0m    | arrakis - Using holography file /scratch3/projects/spiceracs/akpb.iquv.closepack36.54.943MHz.SB51811.cube.fits -- setting removeleakge to true\n"
      ]
     },
     "metadata": {},
     "output_type": "display_data"
    },
    {
     "name": "stdout",
     "output_type": "stream",
     "text": [
      "Failed for u: LINMOS file not found! -- check /scratch3/projects/spiceracs/askap_pol_testing/cubes/cutouts/3C286/linmos_u.log?\n"
     ]
    }
   ],
   "source": [
    "beam = 0\n",
    "datadir=Path(\"/scratch3/projects/spiceracs/askap_pol_testing/cubes/cutouts\")\n",
    "holofile=Path(\"/scratch3/projects/spiceracs/akpb.iquv.closepack36.54.943MHz.SB51811.cube.fits\")\n",
    "siffile=Path(\"/datasets/work/sa-mhongoose/work/containers/askapsoft_1.15.0-openmpi4.sif\")\n",
    "for stoke in \"iqu\":\n",
    "    try:\n",
    "        image_paths = find_images.fn(\n",
    "            field=\"3C286\",\n",
    "            beams=beams_dict,\n",
    "            stoke=stoke,\n",
    "            datadir=datadir,\n",
    "        )\n",
    "        parset = genparset.fn(\n",
    "            image_paths=image_paths,\n",
    "            stoke=stoke,\n",
    "            datadir=datadir,\n",
    "            holofile=holofile\n",
    "        )\n",
    "        linmos.fn(\n",
    "            parset=parset,\n",
    "            fieldname=\"3C286\",\n",
    "            image=siffile,\n",
    "            holofile=holofile,\n",
    "        )\n",
    "    except Exception as e:\n",
    "        print(f\"Failed for {stoke}: {e}\")\n",
    "        continue"
   ]
  },
  {
   "cell_type": "code",
   "execution_count": null,
   "metadata": {},
   "outputs": [],
   "source": [
    "parset"
   ]
  }
 ],
 "metadata": {
  "kernelspec": {
   "display_name": "arrakis310",
   "language": "python",
   "name": "python3"
  },
  "language_info": {
   "codemirror_mode": {
    "name": "ipython",
    "version": 3
   },
   "file_extension": ".py",
   "mimetype": "text/x-python",
   "name": "python",
   "nbconvert_exporter": "python",
   "pygments_lexer": "ipython3",
   "version": "3.10.10"
  }
 },
 "nbformat": 4,
 "nbformat_minor": 2
}
